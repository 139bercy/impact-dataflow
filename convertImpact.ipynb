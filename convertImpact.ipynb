{
 "cells": [
  {
   "cell_type": "code",
   "execution_count": 146,
   "id": "dying-armstrong",
   "metadata": {},
   "outputs": [],
   "source": [
    "import pandas as pd\n",
    "import csv"
   ]
  },
  {
   "cell_type": "code",
   "execution_count": 2,
   "id": "exact-techno",
   "metadata": {},
   "outputs": [
    {
     "data": {
      "text/plain": [
       "(530, 19)"
      ]
     },
     "execution_count": 2,
     "metadata": {},
     "output_type": "execute_result"
    }
   ],
   "source": [
    "manifeste = pd.read_csv('data/2021-08-27_adhesion-au-manifeste_questionnaire.csv', sep=\";\")\n",
    "manifeste.shape"
   ]
  },
  {
   "cell_type": "code",
   "execution_count": 3,
   "id": "cultural-regression",
   "metadata": {},
   "outputs": [
    {
     "data": {
      "text/plain": [
       "(283, 141)"
      ]
     },
     "execution_count": 3,
     "metadata": {},
     "output_type": "execute_result"
    }
   ],
   "source": [
    "indicateurs_load = pd.read_csv('data/2021-08-27_recoltons-vos-indicateurs_recoltons-des-donnees-sur-les-indicateurs.csv', sep=\";\")\n",
    "indicateurs_load.shape"
   ]
  },
  {
   "cell_type": "code",
   "execution_count": 4,
   "id": "multiple-prescription",
   "metadata": {},
   "outputs": [
    {
     "name": "stderr",
     "output_type": "stream",
     "text": [
      "/home/strainel-adc/.local/lib/python3.6/site-packages/IPython/core/interactiveshell.py:3072: DtypeWarning: Columns (5,7,12,18,20,21,22,24,25,27,28,29,31,33,34,36,38,42,43,44) have mixed types.Specify dtype option on import or set low_memory=False.\n",
      "  interactivity=interactivity, compiler=compiler, result=result)\n"
     ]
    },
    {
     "data": {
      "text/plain": [
       "(31466384, 48)"
      ]
     },
     "execution_count": 4,
     "metadata": {},
     "output_type": "execute_result"
    }
   ],
   "source": [
    "refsirene_load = pd.read_csv('data/StockEtablissement_utf8.csv', sep=\",\")\n",
    "refsirene_load.shape"
   ]
  },
  {
   "cell_type": "code",
   "execution_count": 5,
   "id": "racial-pacific",
   "metadata": {},
   "outputs": [
    {
     "name": "stderr",
     "output_type": "stream",
     "text": [
      "/home/strainel-adc/.local/lib/python3.6/site-packages/IPython/core/interactiveshell.py:3072: DtypeWarning: Columns (2,4,5,6,7,8,9,10,11,12,13,17,21,22,24,25,26) have mixed types.Specify dtype option on import or set low_memory=False.\n",
      "  interactivity=interactivity, compiler=compiler, result=result)\n"
     ]
    },
    {
     "data": {
      "text/plain": [
       "(22286394, 33)"
      ]
     },
     "execution_count": 5,
     "metadata": {},
     "output_type": "execute_result"
    }
   ],
   "source": [
    "refuniteleg_load = pd.read_csv('data/StockUniteLegale_utf8.csv', sep=\",\")\n",
    "refuniteleg = refuniteleg_load [['siren','denominationUniteLegale','activitePrincipaleUniteLegale',\n",
    "                                 'categorieEntreprise']]\n",
    "refuniteleg_load.shape"
   ]
  },
  {
   "cell_type": "code",
   "execution_count": 6,
   "id": "rapid-atmosphere",
   "metadata": {},
   "outputs": [
    {
     "name": "stderr",
     "output_type": "stream",
     "text": [
      "/home/strainel-adc/.local/lib/python3.6/site-packages/pandas/core/frame.py:4308: SettingWithCopyWarning: \n",
      "A value is trying to be set on a copy of a slice from a DataFrame\n",
      "\n",
      "See the caveats in the documentation: https://pandas.pydata.org/pandas-docs/stable/user_guide/indexing.html#returning-a-view-versus-a-copy\n",
      "  errors=errors,\n"
     ]
    }
   ],
   "source": [
    "refuniteleg.rename(columns={'siren': \"SIREN\"}, inplace=True)"
   ]
  },
  {
   "cell_type": "code",
   "execution_count": 7,
   "id": "favorite-romania",
   "metadata": {},
   "outputs": [
    {
     "name": "stderr",
     "output_type": "stream",
     "text": [
      "/home/strainel-adc/.local/lib/python3.6/site-packages/ipykernel_launcher.py:1: SettingWithCopyWarning: \n",
      "A value is trying to be set on a copy of a slice from a DataFrame.\n",
      "Try using .loc[row_indexer,col_indexer] = value instead\n",
      "\n",
      "See the caveats in the documentation: https://pandas.pydata.org/pandas-docs/stable/user_guide/indexing.html#returning-a-view-versus-a-copy\n",
      "  \"\"\"Entry point for launching an IPython kernel.\n"
     ]
    }
   ],
   "source": [
    "refuniteleg['SIREN'] = refuniteleg['SIREN'].astype('Int64').astype('str').str[:9]"
   ]
  },
  {
   "cell_type": "code",
   "execution_count": 8,
   "id": "coordinated-terminology",
   "metadata": {},
   "outputs": [],
   "source": [
    "refsirene = refsirene_load [['siren','etablissementSiege','numeroVoieEtablissement','typeVoieEtablissement',\n",
    "                             'libelleVoieEtablissement','codePostalEtablissement','libelleCommuneEtablissement']]"
   ]
  },
  {
   "cell_type": "code",
   "execution_count": 9,
   "id": "muslim-springer",
   "metadata": {},
   "outputs": [
    {
     "name": "stderr",
     "output_type": "stream",
     "text": [
      "/home/strainel-adc/.local/lib/python3.6/site-packages/ipykernel_launcher.py:2: SettingWithCopyWarning: \n",
      "A value is trying to be set on a copy of a slice from a DataFrame.\n",
      "Try using .loc[row_indexer,col_indexer] = value instead\n",
      "\n",
      "See the caveats in the documentation: https://pandas.pydata.org/pandas-docs/stable/user_guide/indexing.html#returning-a-view-versus-a-copy\n",
      "  \n",
      "/home/strainel-adc/.local/lib/python3.6/site-packages/ipykernel_launcher.py:3: SettingWithCopyWarning: \n",
      "A value is trying to be set on a copy of a slice from a DataFrame.\n",
      "Try using .loc[row_indexer,col_indexer] = value instead\n",
      "\n",
      "See the caveats in the documentation: https://pandas.pydata.org/pandas-docs/stable/user_guide/indexing.html#returning-a-view-versus-a-copy\n",
      "  This is separate from the ipykernel package so we can avoid doing imports until\n",
      "/home/strainel-adc/.local/lib/python3.6/site-packages/ipykernel_launcher.py:4: SettingWithCopyWarning: \n",
      "A value is trying to be set on a copy of a slice from a DataFrame.\n",
      "Try using .loc[row_indexer,col_indexer] = value instead\n",
      "\n",
      "See the caveats in the documentation: https://pandas.pydata.org/pandas-docs/stable/user_guide/indexing.html#returning-a-view-versus-a-copy\n",
      "  after removing the cwd from sys.path.\n"
     ]
    }
   ],
   "source": [
    "refsirene.rename(columns={'siren': \"SIREN\"}, inplace=True)\n",
    "refsirene['SIREN'] = refsirene['SIREN'].astype('Int64').astype('str')\n",
    "refsirene['numeroVoieEtablissement'] = refsirene['numeroVoieEtablissement'].astype('str')\n",
    "refsirene['codePostalEtablissement'] = refsirene['codePostalEtablissement'].astype('Int64').astype('str')"
   ]
  },
  {
   "cell_type": "code",
   "execution_count": 10,
   "id": "unique-commons",
   "metadata": {},
   "outputs": [],
   "source": [
    "refsirene = refsirene[refsirene['etablissementSiege'] == True]\n",
    "refsirene.drop('etablissementSiege', 1, inplace=True)"
   ]
  },
  {
   "cell_type": "code",
   "execution_count": 11,
   "id": "comparative-insulin",
   "metadata": {},
   "outputs": [
    {
     "data": {
      "text/plain": [
       "(22279075, 6)"
      ]
     },
     "execution_count": 11,
     "metadata": {},
     "output_type": "execute_result"
    }
   ],
   "source": [
    "refsirene.shape"
   ]
  },
  {
   "cell_type": "code",
   "execution_count": 12,
   "id": "advanced-shape",
   "metadata": {},
   "outputs": [
    {
     "name": "stdout",
     "output_type": "stream",
     "text": [
      "      SIREN numeroVoieEtablissement typeVoieEtablissement  \\\n",
      "5    325175                      51                   RUE   \n",
      "7   1807254                      31                   RUE   \n",
      "8   5410220                     nan                   RUE   \n",
      "9   5410345                     nan                   RTE   \n",
      "10  5410394                     nan                   CHE   \n",
      "\n",
      "   libelleVoieEtablissement codePostalEtablissement  \\\n",
      "5               MARX DORMOY                   13004   \n",
      "7                D ALEMBERT                    2100   \n",
      "8                DE HOUDENT                   80210   \n",
      "9               DE DOULLENS                   80100   \n",
      "10                    PETIT                   80120   \n",
      "\n",
      "   libelleCommuneEtablissement  \n",
      "5                  MARSEILLE 4  \n",
      "7                SAINT-QUENTIN  \n",
      "8               TOURS-EN-VIMEU  \n",
      "9                    ABBEVILLE  \n",
      "10                    ARGOULES  \n"
     ]
    }
   ],
   "source": [
    "print(refsirene.head())"
   ]
  },
  {
   "cell_type": "code",
   "execution_count": 13,
   "id": "decimal-military",
   "metadata": {},
   "outputs": [
    {
     "data": {
      "text/plain": [
       "Index(['id', 'published', 'published_at', 'author', 'author_id',\n",
       "       'author_email', 'phone', 'created_at', 'updated_at', 'anonymous',\n",
       "       'draft', 'undraft_at', 'Je mengage en signant ce manifeste',\n",
       "       'Je souhaite etre informe e de levolution de la reglementation europeenne',\n",
       "       'Jaccepte detre recontacte e pour suivre les actualites du manifeste',\n",
       "       'Je souhaite faire figurer le nom et le logo de mon entreprise sur la page du manifeste',\n",
       "       'Quel est le nom de votre entreprise',\n",
       "       'Deposez le logo de votre entreprise ci dessous',\n",
       "       'Siren de votre entreprise'],\n",
       "      dtype='object')"
      ]
     },
     "execution_count": 13,
     "metadata": {},
     "output_type": "execute_result"
    }
   ],
   "source": [
    "manifeste.columns"
   ]
  },
  {
   "cell_type": "code",
   "execution_count": 14,
   "id": "abroad-discussion",
   "metadata": {},
   "outputs": [],
   "source": [
    "manifeste = manifeste[['Siren de votre entreprise','Quel est le nom de votre entreprise']]\n",
    "manifeste.rename(columns={'Siren de votre entreprise' : \"SIREN\"}, inplace=True)"
   ]
  },
  {
   "cell_type": "code",
   "execution_count": 15,
   "id": "broad-delay",
   "metadata": {},
   "outputs": [
    {
     "name": "stdout",
     "output_type": "stream",
     "text": [
      "       SIREN Quel est le nom de votre entreprise ENGAGEMENT_MANIFESTE\n",
      "0  538915638               Avelis Connect Soyaux                    1\n",
      "1       <NA>                           Eco-Learn                    1\n",
      "2  890004419                 The Main Formations                    1\n",
      "3  808639736                                 NaN                    1\n",
      "4  537666646               MADISON COMMUNICATION                    1\n"
     ]
    }
   ],
   "source": [
    "# Convertir le SIREN en string et ne conserver que les 9 premiers chiffres\n",
    "manifeste['SIREN'] = manifeste['SIREN'].astype('Int64').astype('str').str[:9]\n",
    "manifeste['ENGAGEMENT_MANIFESTE'] = '1'\n",
    "print(manifeste.head())"
   ]
  },
  {
   "cell_type": "code",
   "execution_count": 16,
   "id": "neutral-cannon",
   "metadata": {},
   "outputs": [
    {
     "data": {
      "text/plain": [
       "(530, 3)"
      ]
     },
     "execution_count": 16,
     "metadata": {},
     "output_type": "execute_result"
    }
   ],
   "source": [
    "manifeste.shape"
   ]
  },
  {
   "cell_type": "code",
   "execution_count": 44,
   "id": "subtle-privilege",
   "metadata": {},
   "outputs": [],
   "source": [
    "cols = ['Quel est votre numero siren','Effectuez vous un bilan de vos emissions de co2',\n",
    "        'Bilan des emissions de gaz a effet de serre', \n",
    "        'Commentaire s methodologie de calcul performance sur cet indicateur raison de la non communication etc 2',\n",
    "        'Intensite des emissions de ges','Commentaire s methodologie de calcul performance sur cet indicateur raison de la non communication etc 3',\n",
    "        'Existence dun plan daction de reduction ou doptimisation des consommations de ressources et denergie 1',\n",
    "        'Lien vers le plan daction','Commentaire s details methodologie de calcul performance sur cet indicateur raison de la non communication etc',\n",
    "        'Suivi de la gestion et ou recyclage des dechets 1','Lien vers la politique de gestion ou de recyclage des dechets',\n",
    "        'Commentaire s methodologie de calcul performance sur cet indicateur raison de la non communication etc 8',\n",
    "        'Suivi de la gestion de la consommation de leau','Lien vers la politique de gestion de la consommation de leau',\n",
    "        'Commentaire s methodologie de calcul performance sur cet indicateur raison de la non communication etc 10',\n",
    "        'Existence de partenariats avec des associations dont mecenat en nature 1',\n",
    "        'Montant alloue au mecenat ca','Taux de litiges prudhommaux',\n",
    "        'Commentaire s methodologie de calcul performance sur cet indicateur raison de la non communication etc 19',\n",
    "        'Taux de rotation des effectifs',\n",
    "        'Commentaire s methodologie de calcul performance sur cet indicateur raison de la non communication etc 20',\n",
    "        'Taux dabsenteisme au travail par salarie',\n",
    "        'Commentaire s methodologie de calcul performance sur cet indicateur raison de la non communication etc 21',\n",
    "        'Taux daccident du travail par salarie',\n",
    "        'Commentaire s methodologie de calcul performance sur cet indicateur raison de la non communication etc 22',\n",
    "        'Nombre annuel dheures de formation des salaries',\n",
    "        'Commentaire s methodologie de calcul performance sur cet indicateur raison de la non communication etc 24',\n",
    "        'Taux de salaries en alternance ou en apprentissage',\n",
    "        'Commentaire s methodologie de calcul performance sur cet indicateur raison de la non communication etc 18',\n",
    "        'Taux de salaries seniors 55 ans ou plus',\n",
    "        'Commentaire s methodologie de calcul performance sur cet indicateur raison de la non communication etc 25',\n",
    "        'Dispositif s dactionnariat salarie','Existence dun accord dinteressement 1',\n",
    "        'Score de lindex egalite femmes hommes','Lien vers votre note sur le site index egapro',\n",
    "        'Parite du comite executif ou du comite de direction',\n",
    "        'Commentaire s methodologie de calcul performance sur cet indicateur raison de la non communication etc 32',\n",
    "        'Taux demploi des travailleurs handicapes',\n",
    "        'Quel est le nombre de recrutements de salaries handicapes issus dune ea ou dun esat que vous avez recrutes',\n",
    "        'Commentaire s methodologie de calcul performance sur cet indicateur raison de la non communication etc 34',\n",
    "        'Publication dune declaration de performance extra financiere dpef ou dun rapport rse',\n",
    "        'Commentaire s methodologie de calcul performance sur cet indicateur raison de la non communication etc 37',\n",
    "        'Reconnaissance par un ou plusieurs labels rse 1','Lien vers le document de labelisation',\n",
    "        'Acceptez vous de rendre ces donnees publiques','Acceptez vous de rendre ces donnees accessibles en format libre et reutilisables par des tiers']\n",
    "indicateurs = indicateurs_load[cols]\n"
   ]
  },
  {
   "cell_type": "code",
   "execution_count": 133,
   "id": "removable-residence",
   "metadata": {},
   "outputs": [
    {
     "name": "stdout",
     "output_type": "stream",
     "text": [
      "['Vous etes', 'SIREN', 'Quel est votre perimetre de reporting', 'Pour quelle annee publiez vous', 'Indicateurs environnementaux', 'Bilan des emissions de ges', 'Effectuez vous un bilan de vos emissions de co2', 'Bilan des emissions de gaz a effet de serre', 'Scope 1', 'Scope 2 1', 'Scope 3 1', 'Total des emissions de gaz a effet de serre 1', 'Commentaire s methodologie de calcul performance sur cet indicateur raison de la non communication etc 2', 'Intensite des emissions de ges', 'Commentaire s methodologie de calcul performance sur cet indicateur raison de la non communication etc 3', 'Energie', 'Exposition aux energies fossiles 1', 'Commentaire s methodologie de calcul performance sur cet indicateur raison de la non communication etc 4', 'Intensite energetique 1', 'Commentaire s methodologie de calcul performance sur cet indicateur raison de la non communication etc 5', 'Existence dun plan daction de reduction ou doptimisation des consommations de ressources et denergie 1', 'Lien vers le plan daction', 'Commentaire s details methodologie de calcul performance sur cet indicateur raison de la non communication etc', 'Biodiversite', 'Activites ayant un impact nefaste sur la biodiversite des zones sensibles', 'Commentaire s methodologie de calcul performance sur cet indicateur raison de la non communication etc 7', 'Economie circulaire', 'Suivi de la gestion et ou recyclage des dechets 1', 'Lien vers la politique de gestion ou de recyclage des dechets', 'Commentaire s methodologie de calcul performance sur cet indicateur raison de la non communication etc 8', 'Ratio de dechets dangereux sur lensemble des dechets', 'Commentaire s methodologie de calcul performance sur cet indicateur raison de la non communication etc 9', 'Autres indicateurs environnementaux', 'Suivi de la gestion de la consommation de leau', 'Lien vers la politique de gestion de la consommation de leau', 'Commentaire s methodologie de calcul performance sur cet indicateur raison de la non communication etc 10', 'Certifications environnementales 1', 'Commentaire s methodologie de calcul performance sur cet indicateur raison de la non communication etc 11', 'Existence dun plan de deplacement dentreprise 1', 'Lien vers le plan de deplacement dentreprise', 'Commentaire s methodologie de calcul performance sur cet indicateur raison de la non communication etc 12', 'Alignement avec la taxonomie europeenne des activites durables', 'Connaissez vous la taxonomie europeenne des activites durables', 'Alignement des activites avec la taxonomie europeenne des activites durables', 'Indicateur opex', 'Indicateur capex', 'Commentaire s methodologie de calcul performance sur cet indicateur raison de la non communication etc 13', 'Indicateurs sociaux', 'Pour les entreprises multinationales existence dun controle de conformite aux principes du pacte mondial des nations unies', 'Commentaire s methodologie de calcul performance sur cet indicateur raison de la non communication etc 14', 'Commentaire s methodologie de calcul performance sur cet indicateur raison de la non communication etc 15', 'Existence de partenariats avec des associations dont mecenat en nature 1', 'Breve description des partenariats et associations soutenues', 'Commentaire s methodologie de calcul performance sur cet indicateur raison de la non communication etc 16', 'Montant alloue au mecenat ca', 'Commentaire s methodologie de calcul performance sur cet indicateur raison de la non communication etc 17', 'Ressources humaines et climat social', 'Taux de litiges prudhommaux', 'Commentaire s methodologie de calcul performance sur cet indicateur raison de la non communication etc 19', 'Taux de rotation des effectifs', 'Commentaire s methodologie de calcul performance sur cet indicateur raison de la non communication etc 20', 'Taux dabsenteisme au travail par salarie', 'Commentaire s methodologie de calcul performance sur cet indicateur raison de la non communication etc 21', 'Taux daccident du travail par salarie', 'Commentaire s methodologie de calcul performance sur cet indicateur raison de la non communication etc 22', 'Commentaire s methodologie de calcul performance sur cet indicateur raison de la non communication etc 23', 'Nombre annuel dheures de formation des salaries', 'Commentaire s methodologie de calcul performance sur cet indicateur raison de la non communication etc 24', 'Taux de salaries en alternance ou en apprentissage', 'Commentaire s methodologie de calcul performance sur cet indicateur raison de la non communication etc 18', 'Taux de salaries seniors 55 ans ou plus', 'Commentaire s methodologie de calcul performance sur cet indicateur raison de la non communication etc 25', 'Partage de la valeur', 'Dispositif s dactionnariat salarie', 'Si oui breve description', 'Commentaire s details methodologie de calcul performance sur cet indicateur raison de la non communication etc 2', 'Existence dun accord dinteressement 1', 'Description ou lien vers la politique dinteressement', 'Ratio dequite entre le premier decile et le dernier decile', 'Commentaire s methodologie de calcul performance sur cet indicateur raison de la non communication etc 26', 'Ratio dequite entre le premier decile et la remuneration mediane', 'Commentaire s methodologie de calcul performance sur cet indicateur raison de la non communication etc 27', 'Ratio dequite entre le niveau de remuneration des dirigeants et la remuneration moyenne des salaries', 'Commentaire s methodologie de calcul performance sur cet indicateur raison de la non communication etc 28', 'Egalite femmes hommes', 'Score de lindex egalite femmes hommes', 'Lien vers votre note sur le site index egapro', 'Commentaire s methodologie de calcul performance sur cet indicateur raison de la non communication etc 29', 'Sous index egalite femmes hommes ecart de remuneration homme femme', 'Commentaire s methodologie de calcul performance sur cet indicateur raison de la non communication etc 30', 'Sous index egalite femmes hommes nombre de salariees augmentees dans lannee suivant leur retour de conge maternite', 'Commentaire s methodologie de calcul performance sur cet indicateur raison de la non communication etc 31', 'Parite du comite executif ou du comite de direction', 'Commentaire s methodologie de calcul performance sur cet indicateur raison de la non communication etc 32', 'Handicap', 'Existence dun plan daction en faveur de la prise en compte de lemploi et de la qualite de vie au travail des personnes en situation de handicap 1', 'Commentaire s methodologie de calcul performance sur cet indicateur raison de la non communication etc 33', 'Taux demploi des travailleurs handicapes', 'Quel est le nombre de recrutements de salaries handicapes issus dune ea ou dun esat que vous avez recrutes', 'Commentaire s methodologie de calcul performance sur cet indicateur raison de la non communication etc 34', 'Accessibilite du site internet', 'Commentaire s methodologie de calcul performance sur cet indicateur raison de la non communication etc 35', 'Taux de ca realise avec le secteur adapte et protege', 'Commentaire s methodologie de calcul performance sur cet indicateur raison de la non communication etc 36', 'Indicateurs de gouvernance 1', 'Publication dune declaration de performance extra financiere dpef ou dun rapport rse', 'Commentaire s methodologie de calcul performance sur cet indicateur raison de la non communication etc 37', 'Reconnaissance par un ou plusieurs labels rse 1', 'Lien vers le document de labelisation', 'Commentaire s methodologie de calcul performance sur cet indicateur raison de la non communication etc 38', 'Raison detre dans les statuts 1', 'Commentaire s methodologie de calcul performance sur cet indicateur raison de la non communication etc 39', 'Societe a mission 1', 'Commentaire s methodologie de calcul performance sur cet indicateur raison de la non communication etc 40', 'Agrement esus entreprise solidaire dutilite sociale', 'Commentaire s methodologie de calcul performance sur cet indicateur raison de la non communication etc 41', 'Accord dentreprise sur la base de donnees economiques et sociales bdes 1', 'Commentaire s methodologie de calcul performance sur cet indicateur raison de la non communication etc 42', 'Existence dun plan daction dachats responsables', 'Commentaire s methodologie de calcul performance sur cet indicateur raison de la non communication etc 43', 'Nombre dadministrateurs independants', 'Commentaire s methodologie de calcul performance sur cet indicateur raison de la non communication etc 44', 'Part variable dans la remuneration des dirigeants liee a des criteres de performance de long terme ou de rse', 'Commentaire s methodologie de calcul performance sur cet indicateur raison de la non communication etc 45', 'Reunions entre le conseil dadministration et le responsable de la rse sur lannee passee', 'Commentaire s details methodologie de calcul performance sur cet indicateur raison de la non communication etc 1', 'Publicite des donnees', 'OPENDATA', 'Acceptez vous de rendre ces donnees accessibles en format libre et reutilisables par des tiers']\n"
     ]
    }
   ],
   "source": [
    "cols_torgpd = indicateurs_load.columns.tolist()\n",
    "cols_rgpd = ['id', 'published', 'published_at', 'author', 'author_id', 'author_email', 'phone', \n",
    "             'created_at', 'updated_at', 'anonymous', 'draft', 'undraft_at']\n",
    "cols_torgpd=[e for e in cols_torgpd if e not in cols_rgpd]\n",
    "indicateurs=indicateurs_load[cols_torgpd]\n",
    "print(cols_torgpd)"
   ]
  },
  {
   "cell_type": "code",
   "execution_count": 134,
   "id": "cross-cooperation",
   "metadata": {},
   "outputs": [
    {
     "name": "stderr",
     "output_type": "stream",
     "text": [
      "/home/strainel-adc/.local/lib/python3.6/site-packages/pandas/core/frame.py:4308: SettingWithCopyWarning: \n",
      "A value is trying to be set on a copy of a slice from a DataFrame\n",
      "\n",
      "See the caveats in the documentation: https://pandas.pydata.org/pandas-docs/stable/user_guide/indexing.html#returning-a-view-versus-a-copy\n",
      "  errors=errors,\n"
     ]
    }
   ],
   "source": [
    "#indicateurs.dropna(inplace=True)\n",
    "indicateurs.rename(columns={'Quel est votre numero siren' : \"SIREN\",\n",
    "                           'Acceptez vous de rendre ces donnees publiques' : \"OPENDATA\"}, inplace=True)"
   ]
  },
  {
   "cell_type": "code",
   "execution_count": 135,
   "id": "incorporated-canal",
   "metadata": {},
   "outputs": [
    {
     "data": {
      "text/plain": [
       "(283, 129)"
      ]
     },
     "execution_count": 135,
     "metadata": {},
     "output_type": "execute_result"
    }
   ],
   "source": [
    "indicateurs.shape"
   ]
  },
  {
   "cell_type": "code",
   "execution_count": 136,
   "id": "thermal-graph",
   "metadata": {},
   "outputs": [],
   "source": [
    " indicateurs=indicateurs.replace({r'\\r\\n': ' '}, regex=True)"
   ]
  },
  {
   "cell_type": "code",
   "execution_count": 137,
   "id": "charming-arrest",
   "metadata": {},
   "outputs": [
    {
     "name": "stdout",
     "output_type": "stream",
     "text": [
      "['Vous etes', 'Quel est votre perimetre de reporting', 'Pour quelle annee publiez vous', 'Indicateurs environnementaux', 'Bilan des emissions de ges', 'Effectuez vous un bilan de vos emissions de co2', 'Bilan des emissions de gaz a effet de serre', 'Scope 1', 'Scope 2 1', 'Scope 3 1', 'Total des emissions de gaz a effet de serre 1', 'Commentaire s methodologie de calcul performance sur cet indicateur raison de la non communication etc 2', 'Intensite des emissions de ges', 'Commentaire s methodologie de calcul performance sur cet indicateur raison de la non communication etc 3', 'Energie', 'Exposition aux energies fossiles 1', 'Commentaire s methodologie de calcul performance sur cet indicateur raison de la non communication etc 4', 'Intensite energetique 1', 'Commentaire s methodologie de calcul performance sur cet indicateur raison de la non communication etc 5', 'Existence dun plan daction de reduction ou doptimisation des consommations de ressources et denergie 1', 'Lien vers le plan daction', 'Commentaire s details methodologie de calcul performance sur cet indicateur raison de la non communication etc', 'Biodiversite', 'Activites ayant un impact nefaste sur la biodiversite des zones sensibles', 'Commentaire s methodologie de calcul performance sur cet indicateur raison de la non communication etc 7', 'Economie circulaire', 'Suivi de la gestion et ou recyclage des dechets 1', 'Lien vers la politique de gestion ou de recyclage des dechets', 'Commentaire s methodologie de calcul performance sur cet indicateur raison de la non communication etc 8', 'Ratio de dechets dangereux sur lensemble des dechets', 'Commentaire s methodologie de calcul performance sur cet indicateur raison de la non communication etc 9', 'Autres indicateurs environnementaux', 'Suivi de la gestion de la consommation de leau', 'Lien vers la politique de gestion de la consommation de leau', 'Commentaire s methodologie de calcul performance sur cet indicateur raison de la non communication etc 10', 'Certifications environnementales 1', 'Commentaire s methodologie de calcul performance sur cet indicateur raison de la non communication etc 11', 'Existence dun plan de deplacement dentreprise 1', 'Lien vers le plan de deplacement dentreprise', 'Commentaire s methodologie de calcul performance sur cet indicateur raison de la non communication etc 12', 'Alignement avec la taxonomie europeenne des activites durables', 'Connaissez vous la taxonomie europeenne des activites durables', 'Alignement des activites avec la taxonomie europeenne des activites durables', 'Indicateur opex', 'Indicateur capex', 'Commentaire s methodologie de calcul performance sur cet indicateur raison de la non communication etc 13', 'Indicateurs sociaux', 'Pour les entreprises multinationales existence dun controle de conformite aux principes du pacte mondial des nations unies', 'Commentaire s methodologie de calcul performance sur cet indicateur raison de la non communication etc 14', 'Commentaire s methodologie de calcul performance sur cet indicateur raison de la non communication etc 15', 'Existence de partenariats avec des associations dont mecenat en nature 1', 'Breve description des partenariats et associations soutenues', 'Commentaire s methodologie de calcul performance sur cet indicateur raison de la non communication etc 16', 'Montant alloue au mecenat ca', 'Commentaire s methodologie de calcul performance sur cet indicateur raison de la non communication etc 17', 'Ressources humaines et climat social', 'Taux de litiges prudhommaux', 'Commentaire s methodologie de calcul performance sur cet indicateur raison de la non communication etc 19', 'Taux de rotation des effectifs', 'Commentaire s methodologie de calcul performance sur cet indicateur raison de la non communication etc 20', 'Taux dabsenteisme au travail par salarie', 'Commentaire s methodologie de calcul performance sur cet indicateur raison de la non communication etc 21', 'Taux daccident du travail par salarie', 'Commentaire s methodologie de calcul performance sur cet indicateur raison de la non communication etc 22', 'Commentaire s methodologie de calcul performance sur cet indicateur raison de la non communication etc 23', 'Nombre annuel dheures de formation des salaries', 'Commentaire s methodologie de calcul performance sur cet indicateur raison de la non communication etc 24', 'Taux de salaries en alternance ou en apprentissage', 'Commentaire s methodologie de calcul performance sur cet indicateur raison de la non communication etc 18', 'Taux de salaries seniors 55 ans ou plus', 'Commentaire s methodologie de calcul performance sur cet indicateur raison de la non communication etc 25', 'Partage de la valeur', 'Dispositif s dactionnariat salarie', 'Si oui breve description', 'Commentaire s details methodologie de calcul performance sur cet indicateur raison de la non communication etc 2', 'Existence dun accord dinteressement 1', 'Description ou lien vers la politique dinteressement', 'Ratio dequite entre le premier decile et le dernier decile', 'Commentaire s methodologie de calcul performance sur cet indicateur raison de la non communication etc 26', 'Ratio dequite entre le premier decile et la remuneration mediane', 'Commentaire s methodologie de calcul performance sur cet indicateur raison de la non communication etc 27', 'Ratio dequite entre le niveau de remuneration des dirigeants et la remuneration moyenne des salaries', 'Commentaire s methodologie de calcul performance sur cet indicateur raison de la non communication etc 28', 'Egalite femmes hommes', 'Score de lindex egalite femmes hommes', 'Lien vers votre note sur le site index egapro', 'Commentaire s methodologie de calcul performance sur cet indicateur raison de la non communication etc 29', 'Sous index egalite femmes hommes ecart de remuneration homme femme', 'Commentaire s methodologie de calcul performance sur cet indicateur raison de la non communication etc 30', 'Sous index egalite femmes hommes nombre de salariees augmentees dans lannee suivant leur retour de conge maternite', 'Commentaire s methodologie de calcul performance sur cet indicateur raison de la non communication etc 31', 'Parite du comite executif ou du comite de direction', 'Commentaire s methodologie de calcul performance sur cet indicateur raison de la non communication etc 32', 'Handicap', 'Existence dun plan daction en faveur de la prise en compte de lemploi et de la qualite de vie au travail des personnes en situation de handicap 1', 'Commentaire s methodologie de calcul performance sur cet indicateur raison de la non communication etc 33', 'Taux demploi des travailleurs handicapes', 'Quel est le nombre de recrutements de salaries handicapes issus dune ea ou dun esat que vous avez recrutes', 'Commentaire s methodologie de calcul performance sur cet indicateur raison de la non communication etc 34', 'Accessibilite du site internet', 'Commentaire s methodologie de calcul performance sur cet indicateur raison de la non communication etc 35', 'Taux de ca realise avec le secteur adapte et protege', 'Commentaire s methodologie de calcul performance sur cet indicateur raison de la non communication etc 36', 'Indicateurs de gouvernance 1', 'Publication dune declaration de performance extra financiere dpef ou dun rapport rse', 'Commentaire s methodologie de calcul performance sur cet indicateur raison de la non communication etc 37', 'Reconnaissance par un ou plusieurs labels rse 1', 'Lien vers le document de labelisation', 'Commentaire s methodologie de calcul performance sur cet indicateur raison de la non communication etc 38', 'Raison detre dans les statuts 1', 'Commentaire s methodologie de calcul performance sur cet indicateur raison de la non communication etc 39', 'Societe a mission 1', 'Commentaire s methodologie de calcul performance sur cet indicateur raison de la non communication etc 40', 'Agrement esus entreprise solidaire dutilite sociale', 'Commentaire s methodologie de calcul performance sur cet indicateur raison de la non communication etc 41', 'Accord dentreprise sur la base de donnees economiques et sociales bdes 1', 'Commentaire s methodologie de calcul performance sur cet indicateur raison de la non communication etc 42', 'Existence dun plan daction dachats responsables', 'Commentaire s methodologie de calcul performance sur cet indicateur raison de la non communication etc 43', 'Nombre dadministrateurs independants', 'Commentaire s methodologie de calcul performance sur cet indicateur raison de la non communication etc 44', 'Part variable dans la remuneration des dirigeants liee a des criteres de performance de long terme ou de rse', 'Commentaire s methodologie de calcul performance sur cet indicateur raison de la non communication etc 45', 'Reunions entre le conseil dadministration et le responsable de la rse sur lannee passee', 'Commentaire s details methodologie de calcul performance sur cet indicateur raison de la non communication etc 1', 'Publicite des donnees', 'Acceptez vous de rendre ces donnees accessibles en format libre et reutilisables par des tiers']\n"
     ]
    }
   ],
   "source": [
    "cols_tosecret = indicateurs.columns.tolist()\n",
    "cols_tosecret.remove('OPENDATA')\n",
    "cols_tosecret.remove('SIREN')\n",
    "print(cols_tosecret)"
   ]
  },
  {
   "cell_type": "code",
   "execution_count": null,
   "id": "young-calvin",
   "metadata": {},
   "outputs": [],
   "source": []
  },
  {
   "cell_type": "code",
   "execution_count": 138,
   "id": "fleet-delay",
   "metadata": {},
   "outputs": [
    {
     "name": "stdout",
     "output_type": "stream",
     "text": [
      "                                 Vous etes      SIREN  \\\n",
      "0             Une PME de 10 à 250 salariés  572151207   \n",
      "1                                           519629133   \n",
      "2                                           413175050   \n",
      "3                                           314397712   \n",
      "4  Une entreprise de moins de 10 salariés   887626927   \n",
      "\n",
      "  Quel est votre perimetre de reporting Pour quelle annee publiez vous  \\\n",
      "0                            Individuel                           2020   \n",
      "1                                                                        \n",
      "2                                                                        \n",
      "3                                                                        \n",
      "4                            Individuel                           2020   \n",
      "\n",
      "  Indicateurs environnementaux Bilan des emissions de ges  \\\n",
      "0                          NaN                        NaN   \n",
      "1                                                           \n",
      "2                                                           \n",
      "3                                                           \n",
      "4                          NaN                        NaN   \n",
      "\n",
      "  Effectuez vous un bilan de vos emissions de co2  \\\n",
      "0                                             NON   \n",
      "1                                                   \n",
      "2                                                   \n",
      "3                                                   \n",
      "4                                             NON   \n",
      "\n",
      "  Bilan des emissions de gaz a effet de serre Scope 1 Scope 2 1  ...  \\\n",
      "0                                         NaN     NaN       NaN  ...   \n",
      "1                                                                ...   \n",
      "2                                                                ...   \n",
      "3                                                                ...   \n",
      "4                                         NaN     NaN       NaN  ...   \n",
      "\n",
      "  Nombre dadministrateurs independants  \\\n",
      "0                                  NaN   \n",
      "1                                        \n",
      "2                                        \n",
      "3                                        \n",
      "4                                  NaN   \n",
      "\n",
      "  Commentaire s methodologie de calcul performance sur cet indicateur raison de la non communication etc 44  \\\n",
      "0  Non concerné car nous ne sommes pas une grande...                                                          \n",
      "1                                                                                                             \n",
      "2                                                                                                             \n",
      "3                                                                                                             \n",
      "4                                                NaN                                                          \n",
      "\n",
      "  Part variable dans la remuneration des dirigeants liee a des criteres de performance de long terme ou de rse  \\\n",
      "0                                                NaN                                                             \n",
      "1                                                                                                                \n",
      "2                                                                                                                \n",
      "3                                                                                                                \n",
      "4                                                NaN                                                             \n",
      "\n",
      "  Commentaire s methodologie de calcul performance sur cet indicateur raison de la non communication etc 45  \\\n",
      "0                                                NaN                                                          \n",
      "1                                                                                                             \n",
      "2                                                                                                             \n",
      "3                                                                                                             \n",
      "4                                                NaN                                                          \n",
      "\n",
      "  Reunions entre le conseil dadministration et le responsable de la rse sur lannee passee  \\\n",
      "0                                                Non                                        \n",
      "1                                                                                           \n",
      "2                                                                                           \n",
      "3                                                                                           \n",
      "4                                                NaN                                        \n",
      "\n",
      "  Commentaire s details methodologie de calcul performance sur cet indicateur raison de la non communication etc 1  \\\n",
      "0                                                NaN                                                                 \n",
      "1                                                                                                                    \n",
      "2                                                                                                                    \n",
      "3                                                                                                                    \n",
      "4                                     Non applicable                                                                 \n",
      "\n",
      "  Publicite des donnees OPENDATA  \\\n",
      "0                   NaN      Oui   \n",
      "1                            Non   \n",
      "2                            NaN   \n",
      "3                            Non   \n",
      "4                   NaN      Oui   \n",
      "\n",
      "  Acceptez vous de rendre ces donnees accessibles en format libre et reutilisables par des tiers  \\\n",
      "0                                                NaN                                               \n",
      "1                                                                                                  \n",
      "2                                                                                                  \n",
      "3                                                                                                  \n",
      "4                                                NON                                               \n",
      "\n",
      "  ENGAGEMENT_INDICATEURS  \n",
      "0                      1  \n",
      "1                      1  \n",
      "2                      1  \n",
      "3                      1  \n",
      "4                      1  \n",
      "\n",
      "[5 rows x 130 columns]\n"
     ]
    }
   ],
   "source": [
    "# Convertir le SIREN en string et ne conserver que les 9 premiers chiffres\n",
    "indicateurs['SIREN'] = indicateurs['SIREN'].astype('Int64').astype('str').str[:9]\n",
    "indicateurs['ENGAGEMENT_INDICATEURS'] = '1'\n",
    "indicateurs.loc[(indicateurs.OPENDATA != 'Oui'), cols_tosecret] = ''\n",
    "print(indicateurs.head())"
   ]
  },
  {
   "cell_type": "code",
   "execution_count": 139,
   "id": "earlier-stations",
   "metadata": {},
   "outputs": [
    {
     "data": {
      "text/plain": [
       "(283, 130)"
      ]
     },
     "execution_count": 139,
     "metadata": {},
     "output_type": "execute_result"
    }
   ],
   "source": [
    "indicateurs.shape"
   ]
  },
  {
   "cell_type": "code",
   "execution_count": 140,
   "id": "constant-hello",
   "metadata": {},
   "outputs": [
    {
     "name": "stdout",
     "output_type": "stream",
     "text": [
      "                                   Vous etes      SIREN  \\\n",
      "0               Une PME de 10 à 250 salariés  572151207   \n",
      "1                                             519629133   \n",
      "2                                             413175050   \n",
      "3                                             314397712   \n",
      "4    Une entreprise de moins de 10 salariés   887626927   \n",
      "..                                       ...        ...   \n",
      "278                                           492684279   \n",
      "279             Une PME de 10 à 250 salariés  394604839   \n",
      "280                                           480127612   \n",
      "281  Une entreprise de moins de 10 salariés   803748730   \n",
      "282          Une ETI de 250 à 5 000 salariés  382589125   \n",
      "\n",
      "    Quel est votre perimetre de reporting Pour quelle annee publiez vous  \\\n",
      "0                              Individuel                           2020   \n",
      "1                                                                          \n",
      "2                                                                          \n",
      "3                                                                          \n",
      "4                              Individuel                           2020   \n",
      "..                                    ...                            ...   \n",
      "278                                                                        \n",
      "279                                Groupe                           2020   \n",
      "280                                                                        \n",
      "281                            Individuel                           2020   \n",
      "282                            Individuel                           2020   \n",
      "\n",
      "    Indicateurs environnementaux Bilan des emissions de ges  \\\n",
      "0                            NaN                        NaN   \n",
      "1                                                             \n",
      "2                                                             \n",
      "3                                                             \n",
      "4                            NaN                        NaN   \n",
      "..                           ...                        ...   \n",
      "278                                                           \n",
      "279                          NaN                        NaN   \n",
      "280                                                           \n",
      "281                          NaN                        NaN   \n",
      "282                          NaN                        NaN   \n",
      "\n",
      "    Effectuez vous un bilan de vos emissions de co2  \\\n",
      "0                                               NON   \n",
      "1                                                     \n",
      "2                                                     \n",
      "3                                                     \n",
      "4                                               NON   \n",
      "..                                              ...   \n",
      "278                                                   \n",
      "279                                             NON   \n",
      "280                                                   \n",
      "281                                             NON   \n",
      "282                                             OUI   \n",
      "\n",
      "    Bilan des emissions de gaz a effet de serre   Scope 1 Scope 2 1  ...  \\\n",
      "0                                           NaN       NaN       NaN  ...   \n",
      "1                                                                    ...   \n",
      "2                                                                    ...   \n",
      "3                                                                    ...   \n",
      "4                                           NaN       NaN       NaN  ...   \n",
      "..                                          ...       ...       ...  ...   \n",
      "278                                                                  ...   \n",
      "279                                         NaN       NaN       NaN  ...   \n",
      "280                                                                  ...   \n",
      "281                                         NaN       NaN       NaN  ...   \n",
      "282                                         NaN  1506,424    37,290  ...   \n",
      "\n",
      "    Nombre dadministrateurs independants  \\\n",
      "0                                    NaN   \n",
      "1                                          \n",
      "2                                          \n",
      "3                                          \n",
      "4                                    NaN   \n",
      "..                                   ...   \n",
      "278                                        \n",
      "279                                  NaN   \n",
      "280                                        \n",
      "281                                  NaN   \n",
      "282                                  NaN   \n",
      "\n",
      "    Commentaire s methodologie de calcul performance sur cet indicateur raison de la non communication etc 44  \\\n",
      "0    Non concerné car nous ne sommes pas une grande...                                                          \n",
      "1                                                                                                               \n",
      "2                                                                                                               \n",
      "3                                                                                                               \n",
      "4                                                  NaN                                                          \n",
      "..                                                 ...                                                          \n",
      "278                                                                                                             \n",
      "279                                                NaN                                                          \n",
      "280                                                                                                             \n",
      "281                                                NaN                                                          \n",
      "282       Entreprise non concernée par cet indicateur.                                                          \n",
      "\n",
      "    Part variable dans la remuneration des dirigeants liee a des criteres de performance de long terme ou de rse  \\\n",
      "0                                                  NaN                                                             \n",
      "1                                                                                                                  \n",
      "2                                                                                                                  \n",
      "3                                                                                                                  \n",
      "4                                                  NaN                                                             \n",
      "..                                                 ...                                                             \n",
      "278                                                                                                                \n",
      "279                                                NaN                                                             \n",
      "280                                                                                                                \n",
      "281                                                NaN                                                             \n",
      "282                                                NaN                                                             \n",
      "\n",
      "    Commentaire s methodologie de calcul performance sur cet indicateur raison de la non communication etc 45  \\\n",
      "0                                                  NaN                                                          \n",
      "1                                                                                                               \n",
      "2                                                                                                               \n",
      "3                                                                                                               \n",
      "4                                                  NaN                                                          \n",
      "..                                                 ...                                                          \n",
      "278                                                                                                             \n",
      "279                                                NaN                                                          \n",
      "280                                                                                                             \n",
      "281                                                NaN                                                          \n",
      "282                                                NaN                                                          \n",
      "\n",
      "    Reunions entre le conseil dadministration et le responsable de la rse sur lannee passee  \\\n",
      "0                                                  Non                                        \n",
      "1                                                                                             \n",
      "2                                                                                             \n",
      "3                                                                                             \n",
      "4                                                  NaN                                        \n",
      "..                                                 ...                                        \n",
      "278                                                                                           \n",
      "279                                                Oui                                        \n",
      "280                                                                                           \n",
      "281                                                Non                                        \n",
      "282                                                Oui                                        \n",
      "\n",
      "    Commentaire s details methodologie de calcul performance sur cet indicateur raison de la non communication etc 1  \\\n",
      "0                                                  NaN                                                                 \n",
      "1                                                                                                                      \n",
      "2                                                                                                                      \n",
      "3                                                                                                                      \n",
      "4                                       Non applicable                                                                 \n",
      "..                                                 ...                                                                 \n",
      "278                                                                                                                    \n",
      "279                                                NaN                                                                 \n",
      "280                                                                                                                    \n",
      "281                                                NaN                                                                 \n",
      "282                                                NaN                                                                 \n",
      "\n",
      "    Publicite des donnees OPENDATA  \\\n",
      "0                     NaN      Oui   \n",
      "1                              Non   \n",
      "2                              NaN   \n",
      "3                              Non   \n",
      "4                     NaN      Oui   \n",
      "..                    ...      ...   \n",
      "278                            NaN   \n",
      "279                   NaN      Oui   \n",
      "280                            NaN   \n",
      "281                   NaN      Oui   \n",
      "282                   NaN      Oui   \n",
      "\n",
      "    Acceptez vous de rendre ces donnees accessibles en format libre et reutilisables par des tiers  \\\n",
      "0                                                  NaN                                               \n",
      "1                                                                                                    \n",
      "2                                                                                                    \n",
      "3                                                                                                    \n",
      "4                                                  NON                                               \n",
      "..                                                 ...                                               \n",
      "278                                                                                                  \n",
      "279                                                NaN                                               \n",
      "280                                                                                                  \n",
      "281                                                NON                                               \n",
      "282                                                OUI                                               \n",
      "\n",
      "    ENGAGEMENT_INDICATEURS  \n",
      "0                        1  \n",
      "1                        1  \n",
      "2                        1  \n",
      "3                        1  \n",
      "4                        1  \n",
      "..                     ...  \n",
      "278                      1  \n",
      "279                      1  \n",
      "280                      1  \n",
      "281                      1  \n",
      "282                      1  \n",
      "\n",
      "[283 rows x 130 columns]\n"
     ]
    }
   ],
   "source": [
    "#data = manifeste.merge(indicateurs, on='SIREN', how='outer')\n",
    "data = indicateurs\n",
    "#data['ENGAGEMENT_MANIFESTE'] = data['ENGAGEMENT_MANIFESTE'].fillna('0')\n",
    "data['ENGAGEMENT_INDICATEURS'] = data['ENGAGEMENT_INDICATEURS'].fillna('0')\n",
    "print(data)"
   ]
  },
  {
   "cell_type": "code",
   "execution_count": 141,
   "id": "fifth-organ",
   "metadata": {},
   "outputs": [
    {
     "name": "stdout",
     "output_type": "stream",
     "text": [
      "                                   Vous etes      SIREN  \\\n",
      "0               Une PME de 10 à 250 salariés  572151207   \n",
      "1                                             519629133   \n",
      "2                                             413175050   \n",
      "3                                             314397712   \n",
      "4    Une entreprise de moins de 10 salariés   887626927   \n",
      "..                                       ...        ...   \n",
      "278                                           492684279   \n",
      "279             Une PME de 10 à 250 salariés  394604839   \n",
      "280                                           480127612   \n",
      "281  Une entreprise de moins de 10 salariés   803748730   \n",
      "282          Une ETI de 250 à 5 000 salariés  382589125   \n",
      "\n",
      "    Quel est votre perimetre de reporting Pour quelle annee publiez vous  \\\n",
      "0                              Individuel                           2020   \n",
      "1                                                                          \n",
      "2                                                                          \n",
      "3                                                                          \n",
      "4                              Individuel                           2020   \n",
      "..                                    ...                            ...   \n",
      "278                                                                        \n",
      "279                                Groupe                           2020   \n",
      "280                                                                        \n",
      "281                            Individuel                           2020   \n",
      "282                            Individuel                           2020   \n",
      "\n",
      "    Indicateurs environnementaux Bilan des emissions de ges  \\\n",
      "0                            NaN                        NaN   \n",
      "1                                                             \n",
      "2                                                             \n",
      "3                                                             \n",
      "4                            NaN                        NaN   \n",
      "..                           ...                        ...   \n",
      "278                                                           \n",
      "279                          NaN                        NaN   \n",
      "280                                                           \n",
      "281                          NaN                        NaN   \n",
      "282                          NaN                        NaN   \n",
      "\n",
      "    Effectuez vous un bilan de vos emissions de co2  \\\n",
      "0                                               NON   \n",
      "1                                                     \n",
      "2                                                     \n",
      "3                                                     \n",
      "4                                               NON   \n",
      "..                                              ...   \n",
      "278                                                   \n",
      "279                                             NON   \n",
      "280                                                   \n",
      "281                                             NON   \n",
      "282                                             OUI   \n",
      "\n",
      "    Bilan des emissions de gaz a effet de serre   Scope 1 Scope 2 1  ...  \\\n",
      "0                                           NaN       NaN       NaN  ...   \n",
      "1                                                                    ...   \n",
      "2                                                                    ...   \n",
      "3                                                                    ...   \n",
      "4                                           NaN       NaN       NaN  ...   \n",
      "..                                          ...       ...       ...  ...   \n",
      "278                                                                  ...   \n",
      "279                                         NaN       NaN       NaN  ...   \n",
      "280                                                                  ...   \n",
      "281                                         NaN       NaN       NaN  ...   \n",
      "282                                         NaN  1506,424    37,290  ...   \n",
      "\n",
      "    Acceptez vous de rendre ces donnees accessibles en format libre et reutilisables par des tiers  \\\n",
      "0                                                  NaN                                               \n",
      "1                                                                                                    \n",
      "2                                                                                                    \n",
      "3                                                                                                    \n",
      "4                                                  NON                                               \n",
      "..                                                 ...                                               \n",
      "278                                                                                                  \n",
      "279                                                NaN                                               \n",
      "280                                                                                                  \n",
      "281                                                NON                                               \n",
      "282                                                OUI                                               \n",
      "\n",
      "    ENGAGEMENT_INDICATEURS numeroVoieEtablissement typeVoieEtablissement  \\\n",
      "0                        1                      53                   RUE   \n",
      "1                        1                     3.0                   RUE   \n",
      "2                        1                     nan                   NaN   \n",
      "3                        1                    57.0                    BD   \n",
      "4                        1                    56.0                   RUE   \n",
      "..                     ...                     ...                   ...   \n",
      "278                      1                     4.0                   ALL   \n",
      "279                      1                    32.0                   RUE   \n",
      "280                      1                       5                    AV   \n",
      "281                      1                    45.0                   RUE   \n",
      "282                      1                   211.0                    AV   \n",
      "\n",
      "    libelleVoieEtablissement codePostalEtablissement  \\\n",
      "0           CORBIER THIEBAUT                   60270   \n",
      "1                     ROLLON                   76000   \n",
      "2           ESPACE GUTENBERG                   16440   \n",
      "3             DE MONTMORENCY                   75016   \n",
      "4                   DOMBASLE                   75015   \n",
      "..                       ...                     ...   \n",
      "278               DU PROGRES                   59320   \n",
      "279                   DORIAN                   42190   \n",
      "280                 DU TRONE                   75011   \n",
      "281             DU COLOMBIER                   31670   \n",
      "282               DE LABARDE                   33300   \n",
      "\n",
      "    libelleCommuneEtablissement            denominationUniteLegale  \\\n",
      "0                      GOUVIEUX                       SAINTE LUCIE   \n",
      "1                         ROUEN                       SOCAPS GROUP   \n",
      "2         ROULLET-SAINT-ESTEPHE  COMPAGNIE EUROPEENNE DE PAPETERIE   \n",
      "3                      PARIS 16                AIGLE INTERNATIONAL   \n",
      "4                      PARIS 15                             ADVAES   \n",
      "..                          ...                                ...   \n",
      "278                      ENGLOS                TICKET FOR THE MOON   \n",
      "279                    CHARLIEU           LES TISSAGES DE CHARLIEU   \n",
      "280                    PARIS 11                          MD NATION   \n",
      "281                      LABEGE                       MY FAMILY UP   \n",
      "282                    BORDEAUX                   REGAZ - BORDEAUX   \n",
      "\n",
      "    activitePrincipaleUniteLegale categorieEntreprise  \n",
      "0                          10.89Z                 PME  \n",
      "1                          70.22Z                 PME  \n",
      "2                          17.23Z                 ETI  \n",
      "3                          68.20B                 ETI  \n",
      "4                          70.22Z                 NaN  \n",
      "..                            ...                 ...  \n",
      "278                        47.91B                  GE  \n",
      "279                        13.20Z                 PME  \n",
      "280                        96.02A                 PME  \n",
      "281                        85.60Z                 PME  \n",
      "282                        35.22Z                 ETI  \n",
      "\n",
      "[283 rows x 138 columns]\n"
     ]
    }
   ],
   "source": [
    "data_2 = data.merge(refsirene, on='SIREN', how='left')\n",
    "data_2 = data_2.merge(refuniteleg, on='SIREN', how='left')\n",
    "print(data_2)"
   ]
  },
  {
   "cell_type": "code",
   "execution_count": null,
   "id": "declared-talent",
   "metadata": {},
   "outputs": [],
   "source": []
  },
  {
   "cell_type": "code",
   "execution_count": 142,
   "id": "visible-knight",
   "metadata": {},
   "outputs": [
    {
     "name": "stdout",
     "output_type": "stream",
     "text": [
      "['SIREN', 'ENGAGEMENT_INDICATEURS', 'OPENDATA', 'Acceptez vous de rendre ces donnees accessibles en format libre et reutilisables par des tiers', 'Vous etes', 'Quel est votre perimetre de reporting', 'Pour quelle annee publiez vous', 'Indicateurs environnementaux', 'Bilan des emissions de ges', 'Effectuez vous un bilan de vos emissions de co2', 'Bilan des emissions de gaz a effet de serre', 'Scope 1', 'Scope 2 1', 'Scope 3 1', 'Total des emissions de gaz a effet de serre 1', 'Commentaire s methodologie de calcul performance sur cet indicateur raison de la non communication etc 2', 'Intensite des emissions de ges', 'Commentaire s methodologie de calcul performance sur cet indicateur raison de la non communication etc 3', 'Energie', 'Exposition aux energies fossiles 1', 'Commentaire s methodologie de calcul performance sur cet indicateur raison de la non communication etc 4', 'Intensite energetique 1', 'Commentaire s methodologie de calcul performance sur cet indicateur raison de la non communication etc 5', 'Existence dun plan daction de reduction ou doptimisation des consommations de ressources et denergie 1', 'Lien vers le plan daction', 'Commentaire s details methodologie de calcul performance sur cet indicateur raison de la non communication etc', 'Biodiversite', 'Activites ayant un impact nefaste sur la biodiversite des zones sensibles', 'Commentaire s methodologie de calcul performance sur cet indicateur raison de la non communication etc 7', 'Economie circulaire', 'Suivi de la gestion et ou recyclage des dechets 1', 'Lien vers la politique de gestion ou de recyclage des dechets', 'Commentaire s methodologie de calcul performance sur cet indicateur raison de la non communication etc 8', 'Ratio de dechets dangereux sur lensemble des dechets', 'Commentaire s methodologie de calcul performance sur cet indicateur raison de la non communication etc 9', 'Autres indicateurs environnementaux', 'Suivi de la gestion de la consommation de leau', 'Lien vers la politique de gestion de la consommation de leau', 'Commentaire s methodologie de calcul performance sur cet indicateur raison de la non communication etc 10', 'Certifications environnementales 1', 'Commentaire s methodologie de calcul performance sur cet indicateur raison de la non communication etc 11', 'Existence dun plan de deplacement dentreprise 1', 'Lien vers le plan de deplacement dentreprise', 'Commentaire s methodologie de calcul performance sur cet indicateur raison de la non communication etc 12', 'Alignement avec la taxonomie europeenne des activites durables', 'Connaissez vous la taxonomie europeenne des activites durables', 'Alignement des activites avec la taxonomie europeenne des activites durables', 'Indicateur opex', 'Indicateur capex', 'Commentaire s methodologie de calcul performance sur cet indicateur raison de la non communication etc 13', 'Indicateurs sociaux', 'Pour les entreprises multinationales existence dun controle de conformite aux principes du pacte mondial des nations unies', 'Commentaire s methodologie de calcul performance sur cet indicateur raison de la non communication etc 14', 'Commentaire s methodologie de calcul performance sur cet indicateur raison de la non communication etc 15', 'Existence de partenariats avec des associations dont mecenat en nature 1', 'Breve description des partenariats et associations soutenues', 'Commentaire s methodologie de calcul performance sur cet indicateur raison de la non communication etc 16', 'Montant alloue au mecenat ca', 'Commentaire s methodologie de calcul performance sur cet indicateur raison de la non communication etc 17', 'Ressources humaines et climat social', 'Taux de litiges prudhommaux', 'Commentaire s methodologie de calcul performance sur cet indicateur raison de la non communication etc 19', 'Taux de rotation des effectifs', 'Commentaire s methodologie de calcul performance sur cet indicateur raison de la non communication etc 20', 'Taux dabsenteisme au travail par salarie', 'Commentaire s methodologie de calcul performance sur cet indicateur raison de la non communication etc 21', 'Taux daccident du travail par salarie', 'Commentaire s methodologie de calcul performance sur cet indicateur raison de la non communication etc 22', 'Commentaire s methodologie de calcul performance sur cet indicateur raison de la non communication etc 23', 'Nombre annuel dheures de formation des salaries', 'Commentaire s methodologie de calcul performance sur cet indicateur raison de la non communication etc 24', 'Taux de salaries en alternance ou en apprentissage', 'Commentaire s methodologie de calcul performance sur cet indicateur raison de la non communication etc 18', 'Taux de salaries seniors 55 ans ou plus', 'Commentaire s methodologie de calcul performance sur cet indicateur raison de la non communication etc 25', 'Partage de la valeur', 'Dispositif s dactionnariat salarie', 'Si oui breve description', 'Commentaire s details methodologie de calcul performance sur cet indicateur raison de la non communication etc 2', 'Existence dun accord dinteressement 1', 'Description ou lien vers la politique dinteressement', 'Ratio dequite entre le premier decile et le dernier decile', 'Commentaire s methodologie de calcul performance sur cet indicateur raison de la non communication etc 26', 'Ratio dequite entre le premier decile et la remuneration mediane', 'Commentaire s methodologie de calcul performance sur cet indicateur raison de la non communication etc 27', 'Ratio dequite entre le niveau de remuneration des dirigeants et la remuneration moyenne des salaries', 'Commentaire s methodologie de calcul performance sur cet indicateur raison de la non communication etc 28', 'Egalite femmes hommes', 'Score de lindex egalite femmes hommes', 'Lien vers votre note sur le site index egapro', 'Commentaire s methodologie de calcul performance sur cet indicateur raison de la non communication etc 29', 'Sous index egalite femmes hommes ecart de remuneration homme femme', 'Commentaire s methodologie de calcul performance sur cet indicateur raison de la non communication etc 30', 'Sous index egalite femmes hommes nombre de salariees augmentees dans lannee suivant leur retour de conge maternite', 'Commentaire s methodologie de calcul performance sur cet indicateur raison de la non communication etc 31', 'Parite du comite executif ou du comite de direction', 'Commentaire s methodologie de calcul performance sur cet indicateur raison de la non communication etc 32', 'Handicap', 'Existence dun plan daction en faveur de la prise en compte de lemploi et de la qualite de vie au travail des personnes en situation de handicap 1', 'Commentaire s methodologie de calcul performance sur cet indicateur raison de la non communication etc 33', 'Taux demploi des travailleurs handicapes', 'Quel est le nombre de recrutements de salaries handicapes issus dune ea ou dun esat que vous avez recrutes', 'Commentaire s methodologie de calcul performance sur cet indicateur raison de la non communication etc 34', 'Accessibilite du site internet', 'Commentaire s methodologie de calcul performance sur cet indicateur raison de la non communication etc 35', 'Taux de ca realise avec le secteur adapte et protege', 'Commentaire s methodologie de calcul performance sur cet indicateur raison de la non communication etc 36', 'Indicateurs de gouvernance 1', 'Publication dune declaration de performance extra financiere dpef ou dun rapport rse', 'Commentaire s methodologie de calcul performance sur cet indicateur raison de la non communication etc 37', 'Reconnaissance par un ou plusieurs labels rse 1', 'Lien vers le document de labelisation', 'Commentaire s methodologie de calcul performance sur cet indicateur raison de la non communication etc 38', 'Raison detre dans les statuts 1', 'Commentaire s methodologie de calcul performance sur cet indicateur raison de la non communication etc 39', 'Societe a mission 1', 'Commentaire s methodologie de calcul performance sur cet indicateur raison de la non communication etc 40', 'Agrement esus entreprise solidaire dutilite sociale', 'Commentaire s methodologie de calcul performance sur cet indicateur raison de la non communication etc 41', 'Accord dentreprise sur la base de donnees economiques et sociales bdes 1', 'Commentaire s methodologie de calcul performance sur cet indicateur raison de la non communication etc 42', 'Existence dun plan daction dachats responsables', 'Commentaire s methodologie de calcul performance sur cet indicateur raison de la non communication etc 43', 'Nombre dadministrateurs independants', 'Commentaire s methodologie de calcul performance sur cet indicateur raison de la non communication etc 44', 'Part variable dans la remuneration des dirigeants liee a des criteres de performance de long terme ou de rse', 'Commentaire s methodologie de calcul performance sur cet indicateur raison de la non communication etc 45', 'Reunions entre le conseil dadministration et le responsable de la rse sur lannee passee', 'Commentaire s details methodologie de calcul performance sur cet indicateur raison de la non communication etc 1', 'Publicite des donnees', 'numeroVoieEtablissement', 'typeVoieEtablissement', 'libelleVoieEtablissement', 'codePostalEtablissement', 'libelleCommuneEtablissement', 'denominationUniteLegale', 'activitePrincipaleUniteLegale', 'categorieEntreprise']\n"
     ]
    }
   ],
   "source": [
    "cols_order = data_2.columns.tolist()\n",
    "cols_order.remove('SIREN')\n",
    "cols_order.remove('OPENDATA')\n",
    "#cols_order.remove('ENGAGEMENT_MANIFESTE')\n",
    "cols_order.remove('ENGAGEMENT_INDICATEURS')\n",
    "cols_order.remove('Acceptez vous de rendre ces donnees accessibles en format libre et reutilisables par des tiers')\n",
    "#cols = ['SIREN', 'ENGAGEMENT_MANIFESTE', 'ENGAGEMENT_INDICATEURS', 'OPENDATA'] + cols_order\n",
    "cols = ['SIREN', 'ENGAGEMENT_INDICATEURS', 'OPENDATA','Acceptez vous de rendre ces donnees accessibles en format libre et reutilisables par des tiers'] + cols_order\n",
    "print(cols)"
   ]
  },
  {
   "cell_type": "code",
   "execution_count": 143,
   "id": "above-bonus",
   "metadata": {},
   "outputs": [],
   "source": [
    "data_2 = data_2[cols]"
   ]
  },
  {
   "cell_type": "code",
   "execution_count": 147,
   "id": "alert-horizon",
   "metadata": {},
   "outputs": [],
   "source": [
    "data_2.to_csv('data/export.csv', sep=\";\", index=False, quoting=csv.QUOTE_NONNUMERIC)"
   ]
  },
  {
   "cell_type": "code",
   "execution_count": 42,
   "id": "sexual-latex",
   "metadata": {},
   "outputs": [
    {
     "name": "stdout",
     "output_type": "stream",
     "text": [
      "       SIREN ENGAGEMENT_INDICATEURS OPENDATA  \\\n",
      "count    283                    283      191   \n",
      "unique   135                      1        2   \n",
      "top                               1      Oui   \n",
      "freq     141                    283      142   \n",
      "\n",
      "       Acceptez vous de rendre ces donnees accessibles en format libre et reutilisables par des tiers  \\\n",
      "count                                                 212                                               \n",
      "unique                                                  3                                               \n",
      "top                                                                                                     \n",
      "freq                                                  141                                               \n",
      "\n",
      "       Effectuez vous un bilan de vos emissions de co2  \\\n",
      "count                                              272   \n",
      "unique                                               3   \n",
      "top                                                      \n",
      "freq                                               141   \n",
      "\n",
      "       Bilan des emissions de gaz a effet de serre  \\\n",
      "count                                          181   \n",
      "unique                                          39   \n",
      "top                                                  \n",
      "freq                                           141   \n",
      "\n",
      "       Commentaire s methodologie de calcul performance sur cet indicateur raison de la non communication etc 2  \\\n",
      "count                                                 212                                                         \n",
      "unique                                                 71                                                         \n",
      "top                                                                                                               \n",
      "freq                                                  141                                                         \n",
      "\n",
      "       Intensite des emissions de ges  \\\n",
      "count                             205   \n",
      "unique                             65   \n",
      "top                                     \n",
      "freq                              141   \n",
      "\n",
      "       Commentaire s methodologie de calcul performance sur cet indicateur raison de la non communication etc 3  \\\n",
      "count                                                 193                                                         \n",
      "unique                                                 53                                                         \n",
      "top                                                                                                               \n",
      "freq                                                  141                                                         \n",
      "\n",
      "       Existence dun plan daction de reduction ou doptimisation des consommations de ressources et denergie 1  \\\n",
      "count                                                 251                                                       \n",
      "unique                                                  3                                                       \n",
      "top                                                                                                             \n",
      "freq                                                  141                                                       \n",
      "\n",
      "        ... Reconnaissance par un ou plusieurs labels rse 1  \\\n",
      "count   ...                                             264   \n",
      "unique  ...                                               3   \n",
      "top     ...                                                   \n",
      "freq    ...                                             141   \n",
      "\n",
      "       Lien vers le document de labelisation numeroVoieEtablissement  \\\n",
      "count                                    183                     133   \n",
      "unique                                    43                      75   \n",
      "top                                                              nan   \n",
      "freq                                     141                      13   \n",
      "\n",
      "       typeVoieEtablissement libelleVoieEtablissement codePostalEtablissement  \\\n",
      "count                    119                      133                     133   \n",
      "unique                    11                      123                      94   \n",
      "top                      RUE                HAUSSMANN                   75008   \n",
      "freq                      73                        3                       6   \n",
      "\n",
      "       libelleCommuneEtablissement denominationUniteLegale  \\\n",
      "count                          132                     132   \n",
      "unique                          88                     130   \n",
      "top            ISSY-LES-MOULINEAUX       CREDIT COOPERATIF   \n",
      "freq                             6                       2   \n",
      "\n",
      "       activitePrincipaleUniteLegale categorieEntreprise  \n",
      "count                            133                 112  \n",
      "unique                            69                   3  \n",
      "top                           70.22Z                 PME  \n",
      "freq                              23                  62  \n",
      "\n",
      "[4 rows x 55 columns]\n"
     ]
    }
   ],
   "source": [
    "stats = data_2.describe()\n",
    "print(stats)"
   ]
  },
  {
   "cell_type": "code",
   "execution_count": null,
   "id": "built-legend",
   "metadata": {},
   "outputs": [],
   "source": []
  },
  {
   "cell_type": "code",
   "execution_count": null,
   "id": "respiratory-influence",
   "metadata": {},
   "outputs": [],
   "source": []
  },
  {
   "cell_type": "code",
   "execution_count": null,
   "id": "worth-arbor",
   "metadata": {},
   "outputs": [],
   "source": []
  },
  {
   "cell_type": "code",
   "execution_count": null,
   "id": "steady-charlotte",
   "metadata": {},
   "outputs": [],
   "source": []
  },
  {
   "cell_type": "code",
   "execution_count": null,
   "id": "expanded-possible",
   "metadata": {},
   "outputs": [],
   "source": []
  }
 ],
 "metadata": {
  "kernelspec": {
   "display_name": "Python 3",
   "language": "python",
   "name": "python3"
  },
  "language_info": {
   "codemirror_mode": {
    "name": "ipython",
    "version": 3
   },
   "file_extension": ".py",
   "mimetype": "text/x-python",
   "name": "python",
   "nbconvert_exporter": "python",
   "pygments_lexer": "ipython3",
   "version": "3.6.9"
  }
 },
 "nbformat": 4,
 "nbformat_minor": 5
}
