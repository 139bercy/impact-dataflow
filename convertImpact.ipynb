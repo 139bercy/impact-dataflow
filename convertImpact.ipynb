{
 "cells": [
  {
   "cell_type": "code",
   "execution_count": 152,
   "id": "congressional-month",
   "metadata": {},
   "outputs": [],
   "source": [
    "import pandas as pd\n",
    "import csv"
   ]
  },
  {
   "cell_type": "code",
   "execution_count": 176,
   "id": "superb-conducting",
   "metadata": {},
   "outputs": [
    {
     "data": {
      "text/plain": [
       "(569, 19)"
      ]
     },
     "execution_count": 176,
     "metadata": {},
     "output_type": "execute_result"
    }
   ],
   "source": [
    "manifeste = pd.read_csv('data/2021-09-29_adhesion-au-manifeste_questionnaire.csv', sep=\";\")\n",
    "manifeste.shape"
   ]
  },
  {
   "cell_type": "code",
   "execution_count": 178,
   "id": "premier-laugh",
   "metadata": {},
   "outputs": [
    {
     "data": {
      "text/plain": [
       "(298, 141)"
      ]
     },
     "execution_count": 178,
     "metadata": {},
     "output_type": "execute_result"
    }
   ],
   "source": [
    "indicateurs_load = pd.read_csv('data/2021-09-29_recoltons-vos-indicateurs_recoltons-des-donnees-sur-les-indicateurs.csv', sep=\";\")\n",
    "indicateurs_load.shape"
   ]
  },
  {
   "cell_type": "code",
   "execution_count": 179,
   "id": "comprehensive-mongolia",
   "metadata": {},
   "outputs": [
    {
     "name": "stderr",
     "output_type": "stream",
     "text": [
      "/home/strainel-adc/.local/lib/python3.6/site-packages/IPython/core/interactiveshell.py:3072: DtypeWarning: Columns (5,7,12,18,20,21,22,24,25,27,28,29,31,33,34,36,38,42,43,44) have mixed types.Specify dtype option on import or set low_memory=False.\n",
      "  interactivity=interactivity, compiler=compiler, result=result)\n"
     ]
    },
    {
     "data": {
      "text/plain": [
       "(31466384, 48)"
      ]
     },
     "execution_count": 179,
     "metadata": {},
     "output_type": "execute_result"
    }
   ],
   "source": [
    "refsirene_load = pd.read_csv('data/StockEtablissement_utf8.csv', sep=\",\")\n",
    "refsirene_load.shape"
   ]
  },
  {
   "cell_type": "code",
   "execution_count": 180,
   "id": "fiscal-thing",
   "metadata": {},
   "outputs": [
    {
     "name": "stderr",
     "output_type": "stream",
     "text": [
      "/home/strainel-adc/.local/lib/python3.6/site-packages/IPython/core/interactiveshell.py:3072: DtypeWarning: Columns (2,4,5,6,7,8,9,10,11,12,13,17,21,22,24,25,26) have mixed types.Specify dtype option on import or set low_memory=False.\n",
      "  interactivity=interactivity, compiler=compiler, result=result)\n"
     ]
    },
    {
     "data": {
      "text/plain": [
       "(22286394, 33)"
      ]
     },
     "execution_count": 180,
     "metadata": {},
     "output_type": "execute_result"
    }
   ],
   "source": [
    "refuniteleg_load = pd.read_csv('data/StockUniteLegale_utf8.csv', sep=\",\")\n",
    "refuniteleg = refuniteleg_load [['siren','denominationUniteLegale','activitePrincipaleUniteLegale',\n",
    "                                 'categorieEntreprise']]\n",
    "refuniteleg_load.shape"
   ]
  },
  {
   "cell_type": "code",
   "execution_count": 181,
   "id": "arctic-prime",
   "metadata": {},
   "outputs": [
    {
     "name": "stderr",
     "output_type": "stream",
     "text": [
      "/home/strainel-adc/.local/lib/python3.6/site-packages/pandas/core/frame.py:4308: SettingWithCopyWarning: \n",
      "A value is trying to be set on a copy of a slice from a DataFrame\n",
      "\n",
      "See the caveats in the documentation: https://pandas.pydata.org/pandas-docs/stable/user_guide/indexing.html#returning-a-view-versus-a-copy\n",
      "  errors=errors,\n"
     ]
    }
   ],
   "source": [
    "refuniteleg.rename(columns={'siren': \"SIREN\"}, inplace=True)"
   ]
  },
  {
   "cell_type": "code",
   "execution_count": 182,
   "id": "attractive-tract",
   "metadata": {},
   "outputs": [
    {
     "name": "stderr",
     "output_type": "stream",
     "text": [
      "/home/strainel-adc/.local/lib/python3.6/site-packages/ipykernel_launcher.py:1: SettingWithCopyWarning: \n",
      "A value is trying to be set on a copy of a slice from a DataFrame.\n",
      "Try using .loc[row_indexer,col_indexer] = value instead\n",
      "\n",
      "See the caveats in the documentation: https://pandas.pydata.org/pandas-docs/stable/user_guide/indexing.html#returning-a-view-versus-a-copy\n",
      "  \"\"\"Entry point for launching an IPython kernel.\n"
     ]
    }
   ],
   "source": [
    "refuniteleg['SIREN'] = refuniteleg['SIREN'].astype('Int64').astype('str').str[:9]"
   ]
  },
  {
   "cell_type": "code",
   "execution_count": 183,
   "id": "vocational-cloud",
   "metadata": {},
   "outputs": [],
   "source": [
    "refsirene = refsirene_load [['siren','etablissementSiege','numeroVoieEtablissement','typeVoieEtablissement',\n",
    "                             'libelleVoieEtablissement','codePostalEtablissement','libelleCommuneEtablissement']]"
   ]
  },
  {
   "cell_type": "code",
   "execution_count": 184,
   "id": "assumed-aggregate",
   "metadata": {},
   "outputs": [
    {
     "name": "stderr",
     "output_type": "stream",
     "text": [
      "/home/strainel-adc/.local/lib/python3.6/site-packages/ipykernel_launcher.py:2: SettingWithCopyWarning: \n",
      "A value is trying to be set on a copy of a slice from a DataFrame.\n",
      "Try using .loc[row_indexer,col_indexer] = value instead\n",
      "\n",
      "See the caveats in the documentation: https://pandas.pydata.org/pandas-docs/stable/user_guide/indexing.html#returning-a-view-versus-a-copy\n",
      "  \n",
      "/home/strainel-adc/.local/lib/python3.6/site-packages/ipykernel_launcher.py:3: SettingWithCopyWarning: \n",
      "A value is trying to be set on a copy of a slice from a DataFrame.\n",
      "Try using .loc[row_indexer,col_indexer] = value instead\n",
      "\n",
      "See the caveats in the documentation: https://pandas.pydata.org/pandas-docs/stable/user_guide/indexing.html#returning-a-view-versus-a-copy\n",
      "  This is separate from the ipykernel package so we can avoid doing imports until\n",
      "/home/strainel-adc/.local/lib/python3.6/site-packages/ipykernel_launcher.py:4: SettingWithCopyWarning: \n",
      "A value is trying to be set on a copy of a slice from a DataFrame.\n",
      "Try using .loc[row_indexer,col_indexer] = value instead\n",
      "\n",
      "See the caveats in the documentation: https://pandas.pydata.org/pandas-docs/stable/user_guide/indexing.html#returning-a-view-versus-a-copy\n",
      "  after removing the cwd from sys.path.\n"
     ]
    }
   ],
   "source": [
    "refsirene.rename(columns={'siren': \"SIREN\"}, inplace=True)\n",
    "refsirene['SIREN'] = refsirene['SIREN'].astype('Int64').astype('str')\n",
    "refsirene['numeroVoieEtablissement'] = refsirene['numeroVoieEtablissement'].astype('str')\n",
    "refsirene['codePostalEtablissement'] = refsirene['codePostalEtablissement'].astype('Int64').astype('str')"
   ]
  },
  {
   "cell_type": "code",
   "execution_count": 185,
   "id": "elementary-breakdown",
   "metadata": {},
   "outputs": [],
   "source": [
    "refsirene = refsirene[refsirene['etablissementSiege'] == True]\n",
    "refsirene.drop('etablissementSiege', 1, inplace=True)"
   ]
  },
  {
   "cell_type": "code",
   "execution_count": 186,
   "id": "stupid-ridge",
   "metadata": {},
   "outputs": [
    {
     "data": {
      "text/plain": [
       "(22279075, 6)"
      ]
     },
     "execution_count": 186,
     "metadata": {},
     "output_type": "execute_result"
    }
   ],
   "source": [
    "refsirene.shape"
   ]
  },
  {
   "cell_type": "code",
   "execution_count": 187,
   "id": "distant-point",
   "metadata": {},
   "outputs": [
    {
     "name": "stdout",
     "output_type": "stream",
     "text": [
      "      SIREN numeroVoieEtablissement typeVoieEtablissement  \\\n",
      "5    325175                      51                   RUE   \n",
      "7   1807254                      31                   RUE   \n",
      "8   5410220                     nan                   RUE   \n",
      "9   5410345                     nan                   RTE   \n",
      "10  5410394                     nan                   CHE   \n",
      "\n",
      "   libelleVoieEtablissement codePostalEtablissement  \\\n",
      "5               MARX DORMOY                   13004   \n",
      "7                D ALEMBERT                    2100   \n",
      "8                DE HOUDENT                   80210   \n",
      "9               DE DOULLENS                   80100   \n",
      "10                    PETIT                   80120   \n",
      "\n",
      "   libelleCommuneEtablissement  \n",
      "5                  MARSEILLE 4  \n",
      "7                SAINT-QUENTIN  \n",
      "8               TOURS-EN-VIMEU  \n",
      "9                    ABBEVILLE  \n",
      "10                    ARGOULES  \n"
     ]
    }
   ],
   "source": [
    "print(refsirene.head())"
   ]
  },
  {
   "cell_type": "code",
   "execution_count": 188,
   "id": "aerial-kingdom",
   "metadata": {},
   "outputs": [
    {
     "data": {
      "text/plain": [
       "Index(['id', 'published', 'published_at', 'author', 'author_id',\n",
       "       'author_email', 'phone', 'created_at', 'updated_at', 'anonymous',\n",
       "       'draft', 'undraft_at', 'Je mengage en signant ce manifeste',\n",
       "       'Je souhaite etre informe e de levolution de la reglementation europeenne',\n",
       "       'Jaccepte detre recontacte e pour suivre les actualites du manifeste',\n",
       "       'Je souhaite faire figurer le nom et le logo de mon entreprise sur la page du manifeste',\n",
       "       'Quel est le nom de votre entreprise',\n",
       "       'Deposez le logo de votre entreprise ci dessous',\n",
       "       'Siren de votre entreprise'],\n",
       "      dtype='object')"
      ]
     },
     "execution_count": 188,
     "metadata": {},
     "output_type": "execute_result"
    }
   ],
   "source": [
    "manifeste.columns"
   ]
  },
  {
   "cell_type": "code",
   "execution_count": 189,
   "id": "broken-youth",
   "metadata": {},
   "outputs": [],
   "source": [
    "manifeste = manifeste[['Siren de votre entreprise','Quel est le nom de votre entreprise']]\n",
    "manifeste.rename(columns={'Siren de votre entreprise' : \"SIREN\"}, inplace=True)"
   ]
  },
  {
   "cell_type": "code",
   "execution_count": 190,
   "id": "crucial-recording",
   "metadata": {},
   "outputs": [
    {
     "name": "stdout",
     "output_type": "stream",
     "text": [
      "       SIREN Quel est le nom de votre entreprise ENGAGEMENT_MANIFESTE\n",
      "0  538915638               Avelis Connect Soyaux                    1\n",
      "1       <NA>                           Eco-Learn                    1\n",
      "2  890004419                 The Main Formations                    1\n",
      "3  808639736                                 NaN                    1\n",
      "4  537666646               MADISON COMMUNICATION                    1\n"
     ]
    }
   ],
   "source": [
    "# Convertir le SIREN en string et ne conserver que les 9 premiers chiffres\n",
    "manifeste['SIREN'] = manifeste['SIREN'].astype('Int64').astype('str').str[:9]\n",
    "manifeste['ENGAGEMENT_MANIFESTE'] = '1'\n",
    "print(manifeste.head())"
   ]
  },
  {
   "cell_type": "code",
   "execution_count": 191,
   "id": "changed-commissioner",
   "metadata": {},
   "outputs": [
    {
     "data": {
      "text/plain": [
       "(569, 3)"
      ]
     },
     "execution_count": 191,
     "metadata": {},
     "output_type": "execute_result"
    }
   ],
   "source": [
    "manifeste.shape"
   ]
  },
  {
   "cell_type": "code",
   "execution_count": 192,
   "id": "established-notification",
   "metadata": {},
   "outputs": [],
   "source": [
    "cols = ['Quel est votre numero siren','Effectuez vous un bilan de vos emissions de co2',\n",
    "        'Bilan des emissions de gaz a effet de serre', \n",
    "        'Commentaire s methodologie de calcul performance sur cet indicateur raison de la non communication etc 2',\n",
    "        'Intensite des emissions de ges','Commentaire s methodologie de calcul performance sur cet indicateur raison de la non communication etc 3',\n",
    "        'Existence dun plan daction de reduction ou doptimisation des consommations de ressources et denergie 1',\n",
    "        'Lien vers le plan daction','Commentaire s details methodologie de calcul performance sur cet indicateur raison de la non communication etc',\n",
    "        'Suivi de la gestion et ou recyclage des dechets 1','Lien vers la politique de gestion ou de recyclage des dechets',\n",
    "        'Commentaire s methodologie de calcul performance sur cet indicateur raison de la non communication etc 8',\n",
    "        'Suivi de la gestion de la consommation de leau','Lien vers la politique de gestion de la consommation de leau',\n",
    "        'Commentaire s methodologie de calcul performance sur cet indicateur raison de la non communication etc 10',\n",
    "        'Existence de partenariats avec des associations dont mecenat en nature 1',\n",
    "        'Montant alloue au mecenat ca','Taux de litiges prudhommaux',\n",
    "        'Commentaire s methodologie de calcul performance sur cet indicateur raison de la non communication etc 19',\n",
    "        'Taux de rotation des effectifs',\n",
    "        'Commentaire s methodologie de calcul performance sur cet indicateur raison de la non communication etc 20',\n",
    "        'Taux dabsenteisme au travail par salarie',\n",
    "        'Commentaire s methodologie de calcul performance sur cet indicateur raison de la non communication etc 21',\n",
    "        'Taux daccident du travail par salarie',\n",
    "        'Commentaire s methodologie de calcul performance sur cet indicateur raison de la non communication etc 22',\n",
    "        'Nombre annuel dheures de formation des salaries',\n",
    "        'Commentaire s methodologie de calcul performance sur cet indicateur raison de la non communication etc 24',\n",
    "        'Taux de salaries en alternance ou en apprentissage',\n",
    "        'Commentaire s methodologie de calcul performance sur cet indicateur raison de la non communication etc 18',\n",
    "        'Taux de salaries seniors 55 ans ou plus',\n",
    "        'Commentaire s methodologie de calcul performance sur cet indicateur raison de la non communication etc 25',\n",
    "        'Dispositif s dactionnariat salarie','Existence dun accord dinteressement 1',\n",
    "        'Score de lindex egalite femmes hommes','Lien vers votre note sur le site index egapro',\n",
    "        'Parite du comite executif ou du comite de direction',\n",
    "        'Commentaire s methodologie de calcul performance sur cet indicateur raison de la non communication etc 32',\n",
    "        'Taux demploi des travailleurs handicapes',\n",
    "        'Quel est le nombre de recrutements de salaries handicapes issus dune ea ou dun esat que vous avez recrutes',\n",
    "        'Commentaire s methodologie de calcul performance sur cet indicateur raison de la non communication etc 34',\n",
    "        'Publication dune declaration de performance extra financiere dpef ou dun rapport rse',\n",
    "        'Commentaire s methodologie de calcul performance sur cet indicateur raison de la non communication etc 37',\n",
    "        'Reconnaissance par un ou plusieurs labels rse 1','Lien vers le document de labelisation',\n",
    "        'Acceptez vous de rendre ces donnees publiques','Acceptez vous de rendre ces donnees accessibles en format libre et reutilisables par des tiers']\n",
    "indicateurs = indicateurs_load[cols]\n"
   ]
  },
  {
   "cell_type": "code",
   "execution_count": 300,
   "id": "higher-logic",
   "metadata": {},
   "outputs": [
    {
     "name": "stdout",
     "output_type": "stream",
     "text": [
      "['Vous etes', 'Quel est votre numero siren', 'Quel est votre perimetre de reporting', 'Pour quelle annee publiez vous', 'Indicateurs environnementaux', 'Bilan des emissions de ges', 'Effectuez vous un bilan de vos emissions de co2', 'Bilan des emissions de gaz a effet de serre', 'Scope 1', 'Scope 2 1', 'Scope 3 1', 'Total des emissions de gaz a effet de serre 1', 'Commentaire s methodologie de calcul performance sur cet indicateur raison de la non communication etc 2', 'Intensite des emissions de ges', 'Commentaire s methodologie de calcul performance sur cet indicateur raison de la non communication etc 3', 'Energie', 'Exposition aux energies fossiles 1', 'Commentaire s methodologie de calcul performance sur cet indicateur raison de la non communication etc 4', 'Intensite energetique 1', 'Commentaire s methodologie de calcul performance sur cet indicateur raison de la non communication etc 5', 'Existence dun plan daction de reduction ou doptimisation des consommations de ressources et denergie 1', 'Lien vers le plan daction', 'Commentaire s details methodologie de calcul performance sur cet indicateur raison de la non communication etc', 'Biodiversite', 'Activites ayant un impact nefaste sur la biodiversite des zones sensibles', 'Commentaire s methodologie de calcul performance sur cet indicateur raison de la non communication etc 7', 'Economie circulaire', 'Suivi de la gestion et ou recyclage des dechets 1', 'Lien vers la politique de gestion ou de recyclage des dechets', 'Commentaire s methodologie de calcul performance sur cet indicateur raison de la non communication etc 8', 'Ratio de dechets dangereux sur lensemble des dechets', 'Commentaire s methodologie de calcul performance sur cet indicateur raison de la non communication etc 9', 'Autres indicateurs environnementaux', 'Suivi de la gestion de la consommation de leau', 'Lien vers la politique de gestion de la consommation de leau', 'Commentaire s methodologie de calcul performance sur cet indicateur raison de la non communication etc 10', 'Certifications environnementales 1', 'Commentaire s methodologie de calcul performance sur cet indicateur raison de la non communication etc 11', 'Existence dun plan de deplacement dentreprise 1', 'Lien vers le plan de deplacement dentreprise', 'Commentaire s methodologie de calcul performance sur cet indicateur raison de la non communication etc 12', 'Alignement avec la taxonomie europeenne des activites durables', 'Connaissez vous la taxonomie europeenne des activites durables', 'Alignement des activites avec la taxonomie europeenne des activites durables', 'Indicateur opex', 'Indicateur capex', 'Commentaire s methodologie de calcul performance sur cet indicateur raison de la non communication etc 13', 'Indicateurs sociaux', 'Pour les entreprises multinationales existence dun controle de conformite aux principes du pacte mondial des nations unies', 'Commentaire s methodologie de calcul performance sur cet indicateur raison de la non communication etc 14', 'Commentaire s methodologie de calcul performance sur cet indicateur raison de la non communication etc 15', 'Existence de partenariats avec des associations dont mecenat en nature 1', 'Breve description des partenariats et associations soutenues', 'Commentaire s methodologie de calcul performance sur cet indicateur raison de la non communication etc 16', 'Montant alloue au mecenat ca', 'Commentaire s methodologie de calcul performance sur cet indicateur raison de la non communication etc 17', 'Ressources humaines et climat social', 'Taux de litiges prudhommaux', 'Commentaire s methodologie de calcul performance sur cet indicateur raison de la non communication etc 19', 'Taux de rotation des effectifs', 'Commentaire s methodologie de calcul performance sur cet indicateur raison de la non communication etc 20', 'Taux dabsenteisme au travail par salarie', 'Commentaire s methodologie de calcul performance sur cet indicateur raison de la non communication etc 21', 'Taux daccident du travail par salarie', 'Commentaire s methodologie de calcul performance sur cet indicateur raison de la non communication etc 22', 'Commentaire s methodologie de calcul performance sur cet indicateur raison de la non communication etc 23', 'Nombre annuel dheures de formation des salaries', 'Commentaire s methodologie de calcul performance sur cet indicateur raison de la non communication etc 24', 'Taux de salaries en alternance ou en apprentissage', 'Commentaire s methodologie de calcul performance sur cet indicateur raison de la non communication etc 18', 'Taux de salaries seniors 55 ans ou plus', 'Commentaire s methodologie de calcul performance sur cet indicateur raison de la non communication etc 25', 'Partage de la valeur', 'Dispositif s dactionnariat salarie', 'Si oui breve description', 'Commentaire s details methodologie de calcul performance sur cet indicateur raison de la non communication etc 2', 'Existence dun accord dinteressement 1', 'Description ou lien vers la politique dinteressement', 'Ratio dequite entre le premier decile et le dernier decile', 'Commentaire s methodologie de calcul performance sur cet indicateur raison de la non communication etc 26', 'Ratio dequite entre le premier decile et la remuneration mediane', 'Commentaire s methodologie de calcul performance sur cet indicateur raison de la non communication etc 27', 'Ratio dequite entre le niveau de remuneration des dirigeants et la remuneration moyenne des salaries', 'Commentaire s methodologie de calcul performance sur cet indicateur raison de la non communication etc 28', 'Egalite femmes hommes', 'Score de lindex egalite femmes hommes', 'Lien vers votre note sur le site index egapro', 'Commentaire s methodologie de calcul performance sur cet indicateur raison de la non communication etc 29', 'Sous index egalite femmes hommes ecart de remuneration homme femme', 'Commentaire s methodologie de calcul performance sur cet indicateur raison de la non communication etc 30', 'Sous index egalite femmes hommes nombre de salariees augmentees dans lannee suivant leur retour de conge maternite', 'Commentaire s methodologie de calcul performance sur cet indicateur raison de la non communication etc 31', 'Parite du comite executif ou du comite de direction', 'Commentaire s methodologie de calcul performance sur cet indicateur raison de la non communication etc 32', 'Handicap', 'Existence dun plan daction en faveur de la prise en compte de lemploi et de la qualite de vie au travail des personnes en situation de handicap 1', 'Commentaire s methodologie de calcul performance sur cet indicateur raison de la non communication etc 33', 'Taux demploi des travailleurs handicapes', 'Quel est le nombre de recrutements de salaries handicapes issus dune ea ou dun esat que vous avez recrutes', 'Commentaire s methodologie de calcul performance sur cet indicateur raison de la non communication etc 34', 'Accessibilite du site internet', 'Commentaire s methodologie de calcul performance sur cet indicateur raison de la non communication etc 35', 'Taux de ca realise avec le secteur adapte et protege', 'Commentaire s methodologie de calcul performance sur cet indicateur raison de la non communication etc 36', 'Indicateurs de gouvernance 1', 'Publication dune declaration de performance extra financiere dpef ou dun rapport rse', 'Commentaire s methodologie de calcul performance sur cet indicateur raison de la non communication etc 37', 'Reconnaissance par un ou plusieurs labels rse 1', 'Lien vers le document de labelisation', 'Commentaire s methodologie de calcul performance sur cet indicateur raison de la non communication etc 38', 'Raison detre dans les statuts 1', 'Commentaire s methodologie de calcul performance sur cet indicateur raison de la non communication etc 39', 'Societe a mission 1', 'Commentaire s methodologie de calcul performance sur cet indicateur raison de la non communication etc 40', 'Agrement esus entreprise solidaire dutilite sociale', 'Commentaire s methodologie de calcul performance sur cet indicateur raison de la non communication etc 41', 'Accord dentreprise sur la base de donnees economiques et sociales bdes 1', 'Commentaire s methodologie de calcul performance sur cet indicateur raison de la non communication etc 42', 'Existence dun plan daction dachats responsables', 'Commentaire s methodologie de calcul performance sur cet indicateur raison de la non communication etc 43', 'Nombre dadministrateurs independants', 'Commentaire s methodologie de calcul performance sur cet indicateur raison de la non communication etc 44', 'Part variable dans la remuneration des dirigeants liee a des criteres de performance de long terme ou de rse', 'Commentaire s methodologie de calcul performance sur cet indicateur raison de la non communication etc 45', 'Reunions entre le conseil dadministration et le responsable de la rse sur lannee passee', 'Commentaire s details methodologie de calcul performance sur cet indicateur raison de la non communication etc 1', 'Publicite des donnees', 'Acceptez vous de rendre ces donnees publiques', 'Acceptez vous de rendre ces donnees accessibles en format libre et reutilisables par des tiers']\n"
     ]
    }
   ],
   "source": [
    "cols_torgpd = indicateurs_load.columns.tolist()\n",
    "cols_rgpd = ['id', 'published', 'published_at', 'author', 'author_id', 'author_email', 'phone', \n",
    "             'created_at', 'updated_at', 'anonymous', 'draft', 'undraft_at']\n",
    "cols_torgpd=[e for e in cols_torgpd if e not in cols_rgpd]\n",
    "indicateurs=indicateurs_load[cols_torgpd]\n",
    "print(cols_torgpd)"
   ]
  },
  {
   "cell_type": "code",
   "execution_count": 301,
   "id": "mediterranean-sheep",
   "metadata": {},
   "outputs": [
    {
     "name": "stderr",
     "output_type": "stream",
     "text": [
      "/home/strainel-adc/.local/lib/python3.6/site-packages/pandas/core/frame.py:4308: SettingWithCopyWarning: \n",
      "A value is trying to be set on a copy of a slice from a DataFrame\n",
      "\n",
      "See the caveats in the documentation: https://pandas.pydata.org/pandas-docs/stable/user_guide/indexing.html#returning-a-view-versus-a-copy\n",
      "  errors=errors,\n"
     ]
    }
   ],
   "source": [
    "#indicateurs.dropna(inplace=True)\n",
    "indicateurs.rename(columns={'Quel est votre numero siren' : \"SIREN\",\n",
    "                           'Acceptez vous de rendre ces donnees publiques' : \"OPENDATA\",\n",
    "                           'Acceptez vous de rendre ces donnees accessibles en format libre et reutilisables par des tiers' : 'REUSEDDATA'}, inplace=True)"
   ]
  },
  {
   "cell_type": "code",
   "execution_count": 302,
   "id": "fresh-windows",
   "metadata": {},
   "outputs": [
    {
     "data": {
      "text/plain": [
       "(298, 129)"
      ]
     },
     "execution_count": 302,
     "metadata": {},
     "output_type": "execute_result"
    }
   ],
   "source": [
    "indicateurs.shape"
   ]
  },
  {
   "cell_type": "code",
   "execution_count": 303,
   "id": "operating-lithuania",
   "metadata": {},
   "outputs": [],
   "source": [
    "indicateurs=indicateurs.replace({'\\n': ''}, regex=True)"
   ]
  },
  {
   "cell_type": "code",
   "execution_count": 304,
   "id": "blessed-gardening",
   "metadata": {},
   "outputs": [
    {
     "name": "stdout",
     "output_type": "stream",
     "text": [
      "['Vous etes', 'Quel est votre perimetre de reporting', 'Pour quelle annee publiez vous', 'Indicateurs environnementaux', 'Bilan des emissions de ges', 'Effectuez vous un bilan de vos emissions de co2', 'Bilan des emissions de gaz a effet de serre', 'Scope 1', 'Scope 2 1', 'Scope 3 1', 'Total des emissions de gaz a effet de serre 1', 'Commentaire s methodologie de calcul performance sur cet indicateur raison de la non communication etc 2', 'Intensite des emissions de ges', 'Commentaire s methodologie de calcul performance sur cet indicateur raison de la non communication etc 3', 'Energie', 'Exposition aux energies fossiles 1', 'Commentaire s methodologie de calcul performance sur cet indicateur raison de la non communication etc 4', 'Intensite energetique 1', 'Commentaire s methodologie de calcul performance sur cet indicateur raison de la non communication etc 5', 'Existence dun plan daction de reduction ou doptimisation des consommations de ressources et denergie 1', 'Lien vers le plan daction', 'Commentaire s details methodologie de calcul performance sur cet indicateur raison de la non communication etc', 'Biodiversite', 'Activites ayant un impact nefaste sur la biodiversite des zones sensibles', 'Commentaire s methodologie de calcul performance sur cet indicateur raison de la non communication etc 7', 'Economie circulaire', 'Suivi de la gestion et ou recyclage des dechets 1', 'Lien vers la politique de gestion ou de recyclage des dechets', 'Commentaire s methodologie de calcul performance sur cet indicateur raison de la non communication etc 8', 'Ratio de dechets dangereux sur lensemble des dechets', 'Commentaire s methodologie de calcul performance sur cet indicateur raison de la non communication etc 9', 'Autres indicateurs environnementaux', 'Suivi de la gestion de la consommation de leau', 'Lien vers la politique de gestion de la consommation de leau', 'Commentaire s methodologie de calcul performance sur cet indicateur raison de la non communication etc 10', 'Certifications environnementales 1', 'Commentaire s methodologie de calcul performance sur cet indicateur raison de la non communication etc 11', 'Existence dun plan de deplacement dentreprise 1', 'Lien vers le plan de deplacement dentreprise', 'Commentaire s methodologie de calcul performance sur cet indicateur raison de la non communication etc 12', 'Alignement avec la taxonomie europeenne des activites durables', 'Connaissez vous la taxonomie europeenne des activites durables', 'Alignement des activites avec la taxonomie europeenne des activites durables', 'Indicateur opex', 'Indicateur capex', 'Commentaire s methodologie de calcul performance sur cet indicateur raison de la non communication etc 13', 'Indicateurs sociaux', 'Pour les entreprises multinationales existence dun controle de conformite aux principes du pacte mondial des nations unies', 'Commentaire s methodologie de calcul performance sur cet indicateur raison de la non communication etc 14', 'Commentaire s methodologie de calcul performance sur cet indicateur raison de la non communication etc 15', 'Existence de partenariats avec des associations dont mecenat en nature 1', 'Breve description des partenariats et associations soutenues', 'Commentaire s methodologie de calcul performance sur cet indicateur raison de la non communication etc 16', 'Montant alloue au mecenat ca', 'Commentaire s methodologie de calcul performance sur cet indicateur raison de la non communication etc 17', 'Ressources humaines et climat social', 'Taux de litiges prudhommaux', 'Commentaire s methodologie de calcul performance sur cet indicateur raison de la non communication etc 19', 'Taux de rotation des effectifs', 'Commentaire s methodologie de calcul performance sur cet indicateur raison de la non communication etc 20', 'Taux dabsenteisme au travail par salarie', 'Commentaire s methodologie de calcul performance sur cet indicateur raison de la non communication etc 21', 'Taux daccident du travail par salarie', 'Commentaire s methodologie de calcul performance sur cet indicateur raison de la non communication etc 22', 'Commentaire s methodologie de calcul performance sur cet indicateur raison de la non communication etc 23', 'Nombre annuel dheures de formation des salaries', 'Commentaire s methodologie de calcul performance sur cet indicateur raison de la non communication etc 24', 'Taux de salaries en alternance ou en apprentissage', 'Commentaire s methodologie de calcul performance sur cet indicateur raison de la non communication etc 18', 'Taux de salaries seniors 55 ans ou plus', 'Commentaire s methodologie de calcul performance sur cet indicateur raison de la non communication etc 25', 'Partage de la valeur', 'Dispositif s dactionnariat salarie', 'Si oui breve description', 'Commentaire s details methodologie de calcul performance sur cet indicateur raison de la non communication etc 2', 'Existence dun accord dinteressement 1', 'Description ou lien vers la politique dinteressement', 'Ratio dequite entre le premier decile et le dernier decile', 'Commentaire s methodologie de calcul performance sur cet indicateur raison de la non communication etc 26', 'Ratio dequite entre le premier decile et la remuneration mediane', 'Commentaire s methodologie de calcul performance sur cet indicateur raison de la non communication etc 27', 'Ratio dequite entre le niveau de remuneration des dirigeants et la remuneration moyenne des salaries', 'Commentaire s methodologie de calcul performance sur cet indicateur raison de la non communication etc 28', 'Egalite femmes hommes', 'Score de lindex egalite femmes hommes', 'Lien vers votre note sur le site index egapro', 'Commentaire s methodologie de calcul performance sur cet indicateur raison de la non communication etc 29', 'Sous index egalite femmes hommes ecart de remuneration homme femme', 'Commentaire s methodologie de calcul performance sur cet indicateur raison de la non communication etc 30', 'Sous index egalite femmes hommes nombre de salariees augmentees dans lannee suivant leur retour de conge maternite', 'Commentaire s methodologie de calcul performance sur cet indicateur raison de la non communication etc 31', 'Parite du comite executif ou du comite de direction', 'Commentaire s methodologie de calcul performance sur cet indicateur raison de la non communication etc 32', 'Handicap', 'Existence dun plan daction en faveur de la prise en compte de lemploi et de la qualite de vie au travail des personnes en situation de handicap 1', 'Commentaire s methodologie de calcul performance sur cet indicateur raison de la non communication etc 33', 'Taux demploi des travailleurs handicapes', 'Quel est le nombre de recrutements de salaries handicapes issus dune ea ou dun esat que vous avez recrutes', 'Commentaire s methodologie de calcul performance sur cet indicateur raison de la non communication etc 34', 'Accessibilite du site internet', 'Commentaire s methodologie de calcul performance sur cet indicateur raison de la non communication etc 35', 'Taux de ca realise avec le secteur adapte et protege', 'Commentaire s methodologie de calcul performance sur cet indicateur raison de la non communication etc 36', 'Indicateurs de gouvernance 1', 'Publication dune declaration de performance extra financiere dpef ou dun rapport rse', 'Commentaire s methodologie de calcul performance sur cet indicateur raison de la non communication etc 37', 'Reconnaissance par un ou plusieurs labels rse 1', 'Lien vers le document de labelisation', 'Commentaire s methodologie de calcul performance sur cet indicateur raison de la non communication etc 38', 'Raison detre dans les statuts 1', 'Commentaire s methodologie de calcul performance sur cet indicateur raison de la non communication etc 39', 'Societe a mission 1', 'Commentaire s methodologie de calcul performance sur cet indicateur raison de la non communication etc 40', 'Agrement esus entreprise solidaire dutilite sociale', 'Commentaire s methodologie de calcul performance sur cet indicateur raison de la non communication etc 41', 'Accord dentreprise sur la base de donnees economiques et sociales bdes 1', 'Commentaire s methodologie de calcul performance sur cet indicateur raison de la non communication etc 42', 'Existence dun plan daction dachats responsables', 'Commentaire s methodologie de calcul performance sur cet indicateur raison de la non communication etc 43', 'Nombre dadministrateurs independants', 'Commentaire s methodologie de calcul performance sur cet indicateur raison de la non communication etc 44', 'Part variable dans la remuneration des dirigeants liee a des criteres de performance de long terme ou de rse', 'Commentaire s methodologie de calcul performance sur cet indicateur raison de la non communication etc 45', 'Reunions entre le conseil dadministration et le responsable de la rse sur lannee passee', 'Commentaire s details methodologie de calcul performance sur cet indicateur raison de la non communication etc 1', 'Publicite des donnees']\n"
     ]
    }
   ],
   "source": [
    "cols_tosecret = indicateurs.columns.tolist()\n",
    "cols_tosecret.remove('OPENDATA')\n",
    "cols_tosecret.remove('SIREN')\n",
    "cols_tosecret.remove('REUSEDDATA')\n",
    "print(cols_tosecret)"
   ]
  },
  {
   "cell_type": "code",
   "execution_count": 305,
   "id": "israeli-heart",
   "metadata": {},
   "outputs": [],
   "source": [
    "#print(indicateurs.REUSEDDATA)"
   ]
  },
  {
   "cell_type": "code",
   "execution_count": 306,
   "id": "printable-franklin",
   "metadata": {},
   "outputs": [
    {
     "name": "stdout",
     "output_type": "stream",
     "text": [
      "                      Vous etes      SIREN  \\\n",
      "0                                572151207   \n",
      "1  Une PME de 10 à 250 salariés  519629133   \n",
      "2                                413175050   \n",
      "3                                314397712   \n",
      "4                                887626927   \n",
      "\n",
      "  Quel est votre perimetre de reporting Pour quelle annee publiez vous  \\\n",
      "0                                                                        \n",
      "1                                Groupe                           2019   \n",
      "2                                                                        \n",
      "3                                                                        \n",
      "4                                                                        \n",
      "\n",
      "  Indicateurs environnementaux Bilan des emissions de ges  \\\n",
      "0                                                           \n",
      "1                          NaN                        NaN   \n",
      "2                                                           \n",
      "3                                                           \n",
      "4                                                           \n",
      "\n",
      "  Effectuez vous un bilan de vos emissions de co2  \\\n",
      "0                                                   \n",
      "1                                             OUI   \n",
      "2                                                   \n",
      "3                                                   \n",
      "4                                                   \n",
      "\n",
      "  Bilan des emissions de gaz a effet de serre Scope 1 Scope 2 1  ...  \\\n",
      "0                                                                ...   \n",
      "1                                         NaN      37         8  ...   \n",
      "2                                                                ...   \n",
      "3                                                                ...   \n",
      "4                                                                ...   \n",
      "\n",
      "  Nombre dadministrateurs independants  \\\n",
      "0                                        \n",
      "1                                  NaN   \n",
      "2                                        \n",
      "3                                        \n",
      "4                                        \n",
      "\n",
      "  Commentaire s methodologie de calcul performance sur cet indicateur raison de la non communication etc 44  \\\n",
      "0                                                                                                             \n",
      "1                                                NaN                                                          \n",
      "2                                                                                                             \n",
      "3                                                                                                             \n",
      "4                                                                                                             \n",
      "\n",
      "  Part variable dans la remuneration des dirigeants liee a des criteres de performance de long terme ou de rse  \\\n",
      "0                                                                                                                \n",
      "1                                                10%                                                             \n",
      "2                                                                                                                \n",
      "3                                                                                                                \n",
      "4                                                                                                                \n",
      "\n",
      "  Commentaire s methodologie de calcul performance sur cet indicateur raison de la non communication etc 45  \\\n",
      "0                                                                                                             \n",
      "1                                                NaN                                                          \n",
      "2                                                                                                             \n",
      "3                                                                                                             \n",
      "4                                                                                                             \n",
      "\n",
      "  Reunions entre le conseil dadministration et le responsable de la rse sur lannee passee  \\\n",
      "0                                                                                           \n",
      "1                                                Oui                                        \n",
      "2                                                                                           \n",
      "3                                                                                           \n",
      "4                                                                                           \n",
      "\n",
      "  Commentaire s details methodologie de calcul performance sur cet indicateur raison de la non communication etc 1  \\\n",
      "0                                                                                                                    \n",
      "1                                                NaN                                                                 \n",
      "2                                                                                                                    \n",
      "3                                                                                                                    \n",
      "4                                                                                                                    \n",
      "\n",
      "  Publicite des donnees OPENDATA REUSEDDATA ENGAGEMENT_INDICATEURS  \n",
      "0                            Oui        NaN                      1  \n",
      "1                   NaN      Oui        OUI                      1  \n",
      "2                            NaN        NaN                      1  \n",
      "3                            Non        NON                      1  \n",
      "4                            Oui        NON                      1  \n",
      "\n",
      "[5 rows x 130 columns]\n"
     ]
    }
   ],
   "source": [
    "# Convertir le SIREN en string et ne conserver que les 9 premiers chiffres\n",
    "indicateurs['SIREN'] = indicateurs['SIREN'].astype('Int64').astype('str').str[:9]\n",
    "indicateurs['ENGAGEMENT_INDICATEURS'] = '1'\n",
    "indicateurs.loc[(indicateurs.OPENDATA != 'Oui') | (indicateurs.REUSEDDATA != 'OUI'), cols_tosecret] = ''\n",
    "print(indicateurs.head())"
   ]
  },
  {
   "cell_type": "code",
   "execution_count": 307,
   "id": "innocent-annex",
   "metadata": {},
   "outputs": [
    {
     "data": {
      "text/plain": [
       "(298, 130)"
      ]
     },
     "execution_count": 307,
     "metadata": {},
     "output_type": "execute_result"
    }
   ],
   "source": [
    "indicateurs.shape"
   ]
  },
  {
   "cell_type": "code",
   "execution_count": 308,
   "id": "mathematical-cleaning",
   "metadata": {},
   "outputs": [
    {
     "name": "stdout",
     "output_type": "stream",
     "text": [
      "                        Vous etes      SIREN  \\\n",
      "0                                  572151207   \n",
      "1    Une PME de 10 à 250 salariés  519629133   \n",
      "2                                  413175050   \n",
      "3                                  314397712   \n",
      "4                                  887626927   \n",
      "..                            ...        ...   \n",
      "293                                492684279   \n",
      "294                                394604839   \n",
      "295                                480127612   \n",
      "296                                803748730   \n",
      "297                                382589125   \n",
      "\n",
      "    Quel est votre perimetre de reporting Pour quelle annee publiez vous  \\\n",
      "0                                                                          \n",
      "1                                  Groupe                           2019   \n",
      "2                                                                          \n",
      "3                                                                          \n",
      "4                                                                          \n",
      "..                                    ...                            ...   \n",
      "293                                                                        \n",
      "294                                                                        \n",
      "295                                                                        \n",
      "296                                                                        \n",
      "297                                                                        \n",
      "\n",
      "    Indicateurs environnementaux Bilan des emissions de ges  \\\n",
      "0                                                             \n",
      "1                            NaN                        NaN   \n",
      "2                                                             \n",
      "3                                                             \n",
      "4                                                             \n",
      "..                           ...                        ...   \n",
      "293                                                           \n",
      "294                                                           \n",
      "295                                                           \n",
      "296                                                           \n",
      "297                                                           \n",
      "\n",
      "    Effectuez vous un bilan de vos emissions de co2  \\\n",
      "0                                                     \n",
      "1                                               OUI   \n",
      "2                                                     \n",
      "3                                                     \n",
      "4                                                     \n",
      "..                                              ...   \n",
      "293                                                   \n",
      "294                                                   \n",
      "295                                                   \n",
      "296                                                   \n",
      "297                                                   \n",
      "\n",
      "    Bilan des emissions de gaz a effet de serre Scope 1 Scope 2 1  ...  \\\n",
      "0                                                                  ...   \n",
      "1                                           NaN      37         8  ...   \n",
      "2                                                                  ...   \n",
      "3                                                                  ...   \n",
      "4                                                                  ...   \n",
      "..                                          ...     ...       ...  ...   \n",
      "293                                                                ...   \n",
      "294                                                                ...   \n",
      "295                                                                ...   \n",
      "296                                                                ...   \n",
      "297                                                                ...   \n",
      "\n",
      "    Nombre dadministrateurs independants  \\\n",
      "0                                          \n",
      "1                                    NaN   \n",
      "2                                          \n",
      "3                                          \n",
      "4                                          \n",
      "..                                   ...   \n",
      "293                                        \n",
      "294                                        \n",
      "295                                        \n",
      "296                                        \n",
      "297                                        \n",
      "\n",
      "    Commentaire s methodologie de calcul performance sur cet indicateur raison de la non communication etc 44  \\\n",
      "0                                                                                                               \n",
      "1                                                  NaN                                                          \n",
      "2                                                                                                               \n",
      "3                                                                                                               \n",
      "4                                                                                                               \n",
      "..                                                 ...                                                          \n",
      "293                                                                                                             \n",
      "294                                                                                                             \n",
      "295                                                                                                             \n",
      "296                                                                                                             \n",
      "297                                                                                                             \n",
      "\n",
      "    Part variable dans la remuneration des dirigeants liee a des criteres de performance de long terme ou de rse  \\\n",
      "0                                                                                                                  \n",
      "1                                                  10%                                                             \n",
      "2                                                                                                                  \n",
      "3                                                                                                                  \n",
      "4                                                                                                                  \n",
      "..                                                 ...                                                             \n",
      "293                                                                                                                \n",
      "294                                                                                                                \n",
      "295                                                                                                                \n",
      "296                                                                                                                \n",
      "297                                                                                                                \n",
      "\n",
      "    Commentaire s methodologie de calcul performance sur cet indicateur raison de la non communication etc 45  \\\n",
      "0                                                                                                               \n",
      "1                                                  NaN                                                          \n",
      "2                                                                                                               \n",
      "3                                                                                                               \n",
      "4                                                                                                               \n",
      "..                                                 ...                                                          \n",
      "293                                                                                                             \n",
      "294                                                                                                             \n",
      "295                                                                                                             \n",
      "296                                                                                                             \n",
      "297                                                                                                             \n",
      "\n",
      "    Reunions entre le conseil dadministration et le responsable de la rse sur lannee passee  \\\n",
      "0                                                                                             \n",
      "1                                                  Oui                                        \n",
      "2                                                                                             \n",
      "3                                                                                             \n",
      "4                                                                                             \n",
      "..                                                 ...                                        \n",
      "293                                                                                           \n",
      "294                                                                                           \n",
      "295                                                                                           \n",
      "296                                                                                           \n",
      "297                                                                                           \n",
      "\n",
      "    Commentaire s details methodologie de calcul performance sur cet indicateur raison de la non communication etc 1  \\\n",
      "0                                                                                                                      \n",
      "1                                                  NaN                                                                 \n",
      "2                                                                                                                      \n",
      "3                                                                                                                      \n",
      "4                                                                                                                      \n",
      "..                                                 ...                                                                 \n",
      "293                                                                                                                    \n",
      "294                                                                                                                    \n",
      "295                                                                                                                    \n",
      "296                                                                                                                    \n",
      "297                                                                                                                    \n",
      "\n",
      "    Publicite des donnees OPENDATA REUSEDDATA ENGAGEMENT_INDICATEURS  \n",
      "0                              Oui        NaN                      1  \n",
      "1                     NaN      Oui        OUI                      1  \n",
      "2                              NaN        NaN                      1  \n",
      "3                              Non        NON                      1  \n",
      "4                              Oui        NON                      1  \n",
      "..                    ...      ...        ...                    ...  \n",
      "293                            NaN        NaN                      1  \n",
      "294                            Oui        NaN                      1  \n",
      "295                            NaN        NaN                      1  \n",
      "296                            Oui        NON                      1  \n",
      "297                            Non        NON                      1  \n",
      "\n",
      "[298 rows x 130 columns]\n"
     ]
    }
   ],
   "source": [
    "#data = manifeste.merge(indicateurs, on='SIREN', how='outer')\n",
    "data = indicateurs\n",
    "#data['ENGAGEMENT_MANIFESTE'] = data['ENGAGEMENT_MANIFESTE'].fillna('0')\n",
    "data['ENGAGEMENT_INDICATEURS'] = data['ENGAGEMENT_INDICATEURS'].fillna('0')\n",
    "print(data)"
   ]
  },
  {
   "cell_type": "code",
   "execution_count": 309,
   "id": "stuck-musician",
   "metadata": {},
   "outputs": [
    {
     "name": "stdout",
     "output_type": "stream",
     "text": [
      "                        Vous etes      SIREN  \\\n",
      "0                                  572151207   \n",
      "1    Une PME de 10 à 250 salariés  519629133   \n",
      "2                                  413175050   \n",
      "3                                  314397712   \n",
      "4                                  887626927   \n",
      "..                            ...        ...   \n",
      "293                                492684279   \n",
      "294                                394604839   \n",
      "295                                480127612   \n",
      "296                                803748730   \n",
      "297                                382589125   \n",
      "\n",
      "    Quel est votre perimetre de reporting Pour quelle annee publiez vous  \\\n",
      "0                                                                          \n",
      "1                                  Groupe                           2019   \n",
      "2                                                                          \n",
      "3                                                                          \n",
      "4                                                                          \n",
      "..                                    ...                            ...   \n",
      "293                                                                        \n",
      "294                                                                        \n",
      "295                                                                        \n",
      "296                                                                        \n",
      "297                                                                        \n",
      "\n",
      "    Indicateurs environnementaux Bilan des emissions de ges  \\\n",
      "0                                                             \n",
      "1                            NaN                        NaN   \n",
      "2                                                             \n",
      "3                                                             \n",
      "4                                                             \n",
      "..                           ...                        ...   \n",
      "293                                                           \n",
      "294                                                           \n",
      "295                                                           \n",
      "296                                                           \n",
      "297                                                           \n",
      "\n",
      "    Effectuez vous un bilan de vos emissions de co2  \\\n",
      "0                                                     \n",
      "1                                               OUI   \n",
      "2                                                     \n",
      "3                                                     \n",
      "4                                                     \n",
      "..                                              ...   \n",
      "293                                                   \n",
      "294                                                   \n",
      "295                                                   \n",
      "296                                                   \n",
      "297                                                   \n",
      "\n",
      "    Bilan des emissions de gaz a effet de serre Scope 1 Scope 2 1  ...  \\\n",
      "0                                                                  ...   \n",
      "1                                           NaN      37         8  ...   \n",
      "2                                                                  ...   \n",
      "3                                                                  ...   \n",
      "4                                                                  ...   \n",
      "..                                          ...     ...       ...  ...   \n",
      "293                                                                ...   \n",
      "294                                                                ...   \n",
      "295                                                                ...   \n",
      "296                                                                ...   \n",
      "297                                                                ...   \n",
      "\n",
      "    REUSEDDATA ENGAGEMENT_INDICATEURS numeroVoieEtablissement  \\\n",
      "0          NaN                      1                      53   \n",
      "1          OUI                      1                     3.0   \n",
      "2          NaN                      1                     nan   \n",
      "3          NON                      1                    57.0   \n",
      "4          NON                      1                    56.0   \n",
      "..         ...                    ...                     ...   \n",
      "293        NaN                      1                     4.0   \n",
      "294        NaN                      1                    32.0   \n",
      "295        NaN                      1                       5   \n",
      "296        NON                      1                    45.0   \n",
      "297        NON                      1                   211.0   \n",
      "\n",
      "    typeVoieEtablissement libelleVoieEtablissement codePostalEtablissement  \\\n",
      "0                     RUE         CORBIER THIEBAUT                   60270   \n",
      "1                     RUE                   ROLLON                   76000   \n",
      "2                     NaN         ESPACE GUTENBERG                   16440   \n",
      "3                      BD           DE MONTMORENCY                   75016   \n",
      "4                     RUE                 DOMBASLE                   75015   \n",
      "..                    ...                      ...                     ...   \n",
      "293                   ALL               DU PROGRES                   59320   \n",
      "294                   RUE                   DORIAN                   42190   \n",
      "295                    AV                 DU TRONE                   75011   \n",
      "296                   RUE             DU COLOMBIER                   31670   \n",
      "297                    AV               DE LABARDE                   33300   \n",
      "\n",
      "    libelleCommuneEtablissement            denominationUniteLegale  \\\n",
      "0                      GOUVIEUX                       SAINTE LUCIE   \n",
      "1                         ROUEN                       SOCAPS GROUP   \n",
      "2         ROULLET-SAINT-ESTEPHE  COMPAGNIE EUROPEENNE DE PAPETERIE   \n",
      "3                      PARIS 16                AIGLE INTERNATIONAL   \n",
      "4                      PARIS 15                             ADVAES   \n",
      "..                          ...                                ...   \n",
      "293                      ENGLOS                TICKET FOR THE MOON   \n",
      "294                    CHARLIEU           LES TISSAGES DE CHARLIEU   \n",
      "295                    PARIS 11                          MD NATION   \n",
      "296                      LABEGE                       MY FAMILY UP   \n",
      "297                    BORDEAUX                   REGAZ - BORDEAUX   \n",
      "\n",
      "    activitePrincipaleUniteLegale categorieEntreprise  \n",
      "0                          10.89Z                 PME  \n",
      "1                          70.22Z                 PME  \n",
      "2                          17.23Z                 ETI  \n",
      "3                          68.20B                 ETI  \n",
      "4                          70.22Z                 NaN  \n",
      "..                            ...                 ...  \n",
      "293                        47.91B                  GE  \n",
      "294                        13.20Z                 PME  \n",
      "295                        96.02A                 PME  \n",
      "296                        85.60Z                 PME  \n",
      "297                        35.22Z                 ETI  \n",
      "\n",
      "[298 rows x 138 columns]\n"
     ]
    }
   ],
   "source": [
    "data_2 = data.merge(refsirene, on='SIREN', how='left')\n",
    "data_2 = data_2.merge(refuniteleg, on='SIREN', how='left')\n",
    "print(data_2)"
   ]
  },
  {
   "cell_type": "code",
   "execution_count": null,
   "id": "victorian-project",
   "metadata": {},
   "outputs": [],
   "source": []
  },
  {
   "cell_type": "code",
   "execution_count": 310,
   "id": "reverse-implementation",
   "metadata": {},
   "outputs": [
    {
     "name": "stdout",
     "output_type": "stream",
     "text": [
      "['SIREN', 'ENGAGEMENT_INDICATEURS', 'OPENDATA', 'REUSEDDATA', 'Vous etes', 'Quel est votre perimetre de reporting', 'Pour quelle annee publiez vous', 'Indicateurs environnementaux', 'Bilan des emissions de ges', 'Effectuez vous un bilan de vos emissions de co2', 'Bilan des emissions de gaz a effet de serre', 'Scope 1', 'Scope 2 1', 'Scope 3 1', 'Total des emissions de gaz a effet de serre 1', 'Commentaire s methodologie de calcul performance sur cet indicateur raison de la non communication etc 2', 'Intensite des emissions de ges', 'Commentaire s methodologie de calcul performance sur cet indicateur raison de la non communication etc 3', 'Energie', 'Exposition aux energies fossiles 1', 'Commentaire s methodologie de calcul performance sur cet indicateur raison de la non communication etc 4', 'Intensite energetique 1', 'Commentaire s methodologie de calcul performance sur cet indicateur raison de la non communication etc 5', 'Existence dun plan daction de reduction ou doptimisation des consommations de ressources et denergie 1', 'Lien vers le plan daction', 'Commentaire s details methodologie de calcul performance sur cet indicateur raison de la non communication etc', 'Biodiversite', 'Activites ayant un impact nefaste sur la biodiversite des zones sensibles', 'Commentaire s methodologie de calcul performance sur cet indicateur raison de la non communication etc 7', 'Economie circulaire', 'Suivi de la gestion et ou recyclage des dechets 1', 'Lien vers la politique de gestion ou de recyclage des dechets', 'Commentaire s methodologie de calcul performance sur cet indicateur raison de la non communication etc 8', 'Ratio de dechets dangereux sur lensemble des dechets', 'Commentaire s methodologie de calcul performance sur cet indicateur raison de la non communication etc 9', 'Autres indicateurs environnementaux', 'Suivi de la gestion de la consommation de leau', 'Lien vers la politique de gestion de la consommation de leau', 'Commentaire s methodologie de calcul performance sur cet indicateur raison de la non communication etc 10', 'Certifications environnementales 1', 'Commentaire s methodologie de calcul performance sur cet indicateur raison de la non communication etc 11', 'Existence dun plan de deplacement dentreprise 1', 'Lien vers le plan de deplacement dentreprise', 'Commentaire s methodologie de calcul performance sur cet indicateur raison de la non communication etc 12', 'Alignement avec la taxonomie europeenne des activites durables', 'Connaissez vous la taxonomie europeenne des activites durables', 'Alignement des activites avec la taxonomie europeenne des activites durables', 'Indicateur opex', 'Indicateur capex', 'Commentaire s methodologie de calcul performance sur cet indicateur raison de la non communication etc 13', 'Indicateurs sociaux', 'Pour les entreprises multinationales existence dun controle de conformite aux principes du pacte mondial des nations unies', 'Commentaire s methodologie de calcul performance sur cet indicateur raison de la non communication etc 14', 'Commentaire s methodologie de calcul performance sur cet indicateur raison de la non communication etc 15', 'Existence de partenariats avec des associations dont mecenat en nature 1', 'Breve description des partenariats et associations soutenues', 'Commentaire s methodologie de calcul performance sur cet indicateur raison de la non communication etc 16', 'Montant alloue au mecenat ca', 'Commentaire s methodologie de calcul performance sur cet indicateur raison de la non communication etc 17', 'Ressources humaines et climat social', 'Taux de litiges prudhommaux', 'Commentaire s methodologie de calcul performance sur cet indicateur raison de la non communication etc 19', 'Taux de rotation des effectifs', 'Commentaire s methodologie de calcul performance sur cet indicateur raison de la non communication etc 20', 'Taux dabsenteisme au travail par salarie', 'Commentaire s methodologie de calcul performance sur cet indicateur raison de la non communication etc 21', 'Taux daccident du travail par salarie', 'Commentaire s methodologie de calcul performance sur cet indicateur raison de la non communication etc 22', 'Commentaire s methodologie de calcul performance sur cet indicateur raison de la non communication etc 23', 'Nombre annuel dheures de formation des salaries', 'Commentaire s methodologie de calcul performance sur cet indicateur raison de la non communication etc 24', 'Taux de salaries en alternance ou en apprentissage', 'Commentaire s methodologie de calcul performance sur cet indicateur raison de la non communication etc 18', 'Taux de salaries seniors 55 ans ou plus', 'Commentaire s methodologie de calcul performance sur cet indicateur raison de la non communication etc 25', 'Partage de la valeur', 'Dispositif s dactionnariat salarie', 'Si oui breve description', 'Commentaire s details methodologie de calcul performance sur cet indicateur raison de la non communication etc 2', 'Existence dun accord dinteressement 1', 'Description ou lien vers la politique dinteressement', 'Ratio dequite entre le premier decile et le dernier decile', 'Commentaire s methodologie de calcul performance sur cet indicateur raison de la non communication etc 26', 'Ratio dequite entre le premier decile et la remuneration mediane', 'Commentaire s methodologie de calcul performance sur cet indicateur raison de la non communication etc 27', 'Ratio dequite entre le niveau de remuneration des dirigeants et la remuneration moyenne des salaries', 'Commentaire s methodologie de calcul performance sur cet indicateur raison de la non communication etc 28', 'Egalite femmes hommes', 'Score de lindex egalite femmes hommes', 'Lien vers votre note sur le site index egapro', 'Commentaire s methodologie de calcul performance sur cet indicateur raison de la non communication etc 29', 'Sous index egalite femmes hommes ecart de remuneration homme femme', 'Commentaire s methodologie de calcul performance sur cet indicateur raison de la non communication etc 30', 'Sous index egalite femmes hommes nombre de salariees augmentees dans lannee suivant leur retour de conge maternite', 'Commentaire s methodologie de calcul performance sur cet indicateur raison de la non communication etc 31', 'Parite du comite executif ou du comite de direction', 'Commentaire s methodologie de calcul performance sur cet indicateur raison de la non communication etc 32', 'Handicap', 'Existence dun plan daction en faveur de la prise en compte de lemploi et de la qualite de vie au travail des personnes en situation de handicap 1', 'Commentaire s methodologie de calcul performance sur cet indicateur raison de la non communication etc 33', 'Taux demploi des travailleurs handicapes', 'Quel est le nombre de recrutements de salaries handicapes issus dune ea ou dun esat que vous avez recrutes', 'Commentaire s methodologie de calcul performance sur cet indicateur raison de la non communication etc 34', 'Accessibilite du site internet', 'Commentaire s methodologie de calcul performance sur cet indicateur raison de la non communication etc 35', 'Taux de ca realise avec le secteur adapte et protege', 'Commentaire s methodologie de calcul performance sur cet indicateur raison de la non communication etc 36', 'Indicateurs de gouvernance 1', 'Publication dune declaration de performance extra financiere dpef ou dun rapport rse', 'Commentaire s methodologie de calcul performance sur cet indicateur raison de la non communication etc 37', 'Reconnaissance par un ou plusieurs labels rse 1', 'Lien vers le document de labelisation', 'Commentaire s methodologie de calcul performance sur cet indicateur raison de la non communication etc 38', 'Raison detre dans les statuts 1', 'Commentaire s methodologie de calcul performance sur cet indicateur raison de la non communication etc 39', 'Societe a mission 1', 'Commentaire s methodologie de calcul performance sur cet indicateur raison de la non communication etc 40', 'Agrement esus entreprise solidaire dutilite sociale', 'Commentaire s methodologie de calcul performance sur cet indicateur raison de la non communication etc 41', 'Accord dentreprise sur la base de donnees economiques et sociales bdes 1', 'Commentaire s methodologie de calcul performance sur cet indicateur raison de la non communication etc 42', 'Existence dun plan daction dachats responsables', 'Commentaire s methodologie de calcul performance sur cet indicateur raison de la non communication etc 43', 'Nombre dadministrateurs independants', 'Commentaire s methodologie de calcul performance sur cet indicateur raison de la non communication etc 44', 'Part variable dans la remuneration des dirigeants liee a des criteres de performance de long terme ou de rse', 'Commentaire s methodologie de calcul performance sur cet indicateur raison de la non communication etc 45', 'Reunions entre le conseil dadministration et le responsable de la rse sur lannee passee', 'Commentaire s details methodologie de calcul performance sur cet indicateur raison de la non communication etc 1', 'Publicite des donnees', 'numeroVoieEtablissement', 'typeVoieEtablissement', 'libelleVoieEtablissement', 'codePostalEtablissement', 'libelleCommuneEtablissement', 'denominationUniteLegale', 'activitePrincipaleUniteLegale', 'categorieEntreprise']\n"
     ]
    }
   ],
   "source": [
    "cols_order = data_2.columns.tolist()\n",
    "cols_order.remove('SIREN')\n",
    "cols_order.remove('OPENDATA')\n",
    "#cols_order.remove('ENGAGEMENT_MANIFESTE')\n",
    "cols_order.remove('ENGAGEMENT_INDICATEURS')\n",
    "cols_order.remove('REUSEDDATA')\n",
    "#cols = ['SIREN', 'ENGAGEMENT_MANIFESTE', 'ENGAGEMENT_INDICATEURS', 'OPENDATA'] + cols_order\n",
    "cols = ['SIREN', 'ENGAGEMENT_INDICATEURS', 'OPENDATA','REUSEDDATA'] + cols_order\n",
    "print(cols)"
   ]
  },
  {
   "cell_type": "code",
   "execution_count": 311,
   "id": "victorian-injection",
   "metadata": {},
   "outputs": [],
   "source": [
    "data_2 = data_2[cols]"
   ]
  },
  {
   "cell_type": "code",
   "execution_count": 312,
   "id": "honest-budget",
   "metadata": {},
   "outputs": [],
   "source": [
    "data_2.to_csv('data/export.csv', sep=\";\", index=False, quoting=csv.QUOTE_NONNUMERIC)"
   ]
  },
  {
   "cell_type": "code",
   "execution_count": 205,
   "id": "understood-circus",
   "metadata": {},
   "outputs": [
    {
     "name": "stdout",
     "output_type": "stream",
     "text": [
      "       SIREN ENGAGEMENT_INDICATEURS OPENDATA  \\\n",
      "count    298                    298      198   \n",
      "unique   255                      1        2   \n",
      "top     <NA>                      1      Oui   \n",
      "freq      37                    298      147   \n",
      "\n",
      "       Acceptez vous de rendre ces donnees accessibles en format libre et reutilisables par des tiers  \\\n",
      "count                                                 229                                               \n",
      "unique                                                  3                                               \n",
      "top                                                                                                     \n",
      "freq                                                  151                                               \n",
      "\n",
      "       Vous etes Quel est votre perimetre de reporting  \\\n",
      "count        297                                   296   \n",
      "unique         5                                     3   \n",
      "top                                                      \n",
      "freq         151                                   151   \n",
      "\n",
      "       Pour quelle annee publiez vous Indicateurs environnementaux  \\\n",
      "count                             297                          151   \n",
      "unique                              4                            1   \n",
      "top                                                                  \n",
      "freq                              151                          151   \n",
      "\n",
      "       Bilan des emissions de ges  \\\n",
      "count                         151   \n",
      "unique                          1   \n",
      "top                                 \n",
      "freq                          151   \n",
      "\n",
      "       Effectuez vous un bilan de vos emissions de co2  ...  \\\n",
      "count                                              287  ...   \n",
      "unique                                               3  ...   \n",
      "top                                                     ...   \n",
      "freq                                               151  ...   \n",
      "\n",
      "       Commentaire s details methodologie de calcul performance sur cet indicateur raison de la non communication etc 1  \\\n",
      "count                                                 201                                                                 \n",
      "unique                                                 51                                                                 \n",
      "top                                                                                                                       \n",
      "freq                                                  151                                                                 \n",
      "\n",
      "       Publicite des donnees numeroVoieEtablissement typeVoieEtablissement  \\\n",
      "count                    151                     247                   228   \n",
      "unique                     1                     109                    12   \n",
      "top                                              nan                   RUE   \n",
      "freq                     151                      26                   132   \n",
      "\n",
      "       libelleVoieEtablissement codePostalEtablissement  \\\n",
      "count                       247                     247   \n",
      "unique                      226                     164   \n",
      "top                   HAUSSMANN                   75008   \n",
      "freq                          4                      12   \n",
      "\n",
      "       libelleCommuneEtablissement                denominationUniteLegale  \\\n",
      "count                          246                                    243   \n",
      "unique                         156                                    237   \n",
      "top                        PARIS 8  MUTUELLE ASSURANCE INSTITUTEUR FRANCE   \n",
      "freq                            12                                      2   \n",
      "\n",
      "       activitePrincipaleUniteLegale categorieEntreprise  \n",
      "count                            247                 211  \n",
      "unique                           116                   3  \n",
      "top                           70.22Z                 PME  \n",
      "freq                              34                 119  \n",
      "\n",
      "[4 rows x 138 columns]\n"
     ]
    }
   ],
   "source": [
    "stats = data_2.describe()\n",
    "print(stats)"
   ]
  },
  {
   "cell_type": "code",
   "execution_count": null,
   "id": "natural-stroke",
   "metadata": {},
   "outputs": [],
   "source": []
  },
  {
   "cell_type": "code",
   "execution_count": null,
   "id": "fifteen-harvard",
   "metadata": {},
   "outputs": [],
   "source": []
  },
  {
   "cell_type": "code",
   "execution_count": null,
   "id": "nearby-personality",
   "metadata": {},
   "outputs": [],
   "source": []
  },
  {
   "cell_type": "code",
   "execution_count": null,
   "id": "valued-state",
   "metadata": {},
   "outputs": [],
   "source": []
  },
  {
   "cell_type": "code",
   "execution_count": null,
   "id": "lonely-movement",
   "metadata": {},
   "outputs": [],
   "source": []
  }
 ],
 "metadata": {
  "kernelspec": {
   "display_name": "Python 3",
   "language": "python",
   "name": "python3"
  },
  "language_info": {
   "codemirror_mode": {
    "name": "ipython",
    "version": 3
   },
   "file_extension": ".py",
   "mimetype": "text/x-python",
   "name": "python",
   "nbconvert_exporter": "python",
   "pygments_lexer": "ipython3",
   "version": "3.6.9"
  }
 },
 "nbformat": 4,
 "nbformat_minor": 5
}
